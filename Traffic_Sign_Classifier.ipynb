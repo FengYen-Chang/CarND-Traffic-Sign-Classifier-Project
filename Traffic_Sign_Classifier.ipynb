{
 "cells": [
  {
   "cell_type": "markdown",
   "metadata": {},
   "source": [
    "# Self-Driving Car Engineer Nanodegree\n",
    "\n",
    "## Deep Learning\n",
    "\n",
    "## Project: Build a Traffic Sign Recognition Classifier\n",
    "\n",
    "In this notebook, a template is provided for you to implement your functionality in stages, which is required to successfully complete this project. If additional code is required that cannot be included in the notebook, be sure that the Python code is successfully imported and included in your submission if necessary. \n",
    "\n",
    "> **Note**: Once you have completed all of the code implementations, you need to finalize your work by exporting the iPython Notebook as an HTML document. Before exporting the notebook to html, all of the code cells need to have been run so that reviewers can see the final implementation and output. You can then export the notebook by using the menu above and navigating to  \\n\",\n",
    "    \"**File -> Download as -> HTML (.html)**. Include the finished document along with this notebook as your submission. \n",
    "\n",
    "In addition to implementing code, there is a writeup to complete. The writeup should be completed in a separate file, which can be either a markdown file or a pdf document. There is a [write up template](https://github.com/udacity/CarND-Traffic-Sign-Classifier-Project/blob/master/writeup_template.md) that can be used to guide the writing process. Completing the code template and writeup template will cover all of the [rubric points](https://review.udacity.com/#!/rubrics/481/view) for this project.\n",
    "\n",
    "The [rubric](https://review.udacity.com/#!/rubrics/481/view) contains \"Stand Out Suggestions\" for enhancing the project beyond the minimum requirements. The stand out suggestions are optional. If you decide to pursue the \"stand out suggestions\", you can include the code in this Ipython notebook and also discuss the results in the writeup file.\n",
    "\n",
    "\n",
    ">**Note:** Code and Markdown cells can be executed using the **Shift + Enter** keyboard shortcut. In addition, Markdown cells can be edited by typically double-clicking the cell to enter edit mode."
   ]
  },
  {
   "cell_type": "markdown",
   "metadata": {},
   "source": [
    "---\n",
    "## Step 0: Load The Data"
   ]
  },
  {
   "cell_type": "code",
   "execution_count": 1,
   "metadata": {},
   "outputs": [],
   "source": [
    "# Load pickled data\n",
    "import pickle\n",
    "\n",
    "# TODO: Fill this in based on where you saved the training and testing data\n",
    "\n",
    "training_file = '../data/train.p'\n",
    "validation_file= '../data/valid.p'\n",
    "testing_file = '../data/test.p'\n",
    "\n",
    "with open(training_file, mode='rb') as f:\n",
    "    train = pickle.load(f)\n",
    "with open(validation_file, mode='rb') as f:\n",
    "    valid = pickle.load(f)\n",
    "with open(testing_file, mode='rb') as f:\n",
    "    test = pickle.load(f)\n",
    "    \n",
    "X_train, y_train = train['features'], train['labels']\n",
    "X_valid, y_valid = valid['features'], valid['labels']\n",
    "X_test, y_test = test['features'], test['labels']"
   ]
  },
  {
   "cell_type": "code",
   "execution_count": 2,
   "metadata": {},
   "outputs": [
    {
     "data": {
      "text/plain": [
       "16"
      ]
     },
     "execution_count": 2,
     "metadata": {},
     "output_type": "execute_result"
    }
   ],
   "source": [
    "y_test[0]"
   ]
  },
  {
   "cell_type": "markdown",
   "metadata": {},
   "source": [
    "---\n",
    "\n",
    "## Step 1: Dataset Summary & Exploration\n",
    "\n",
    "The pickled data is a dictionary with 4 key/value pairs:\n",
    "\n",
    "- `'features'` is a 4D array containing raw pixel data of the traffic sign images, (num examples, width, height, channels).\n",
    "- `'labels'` is a 1D array containing the label/class id of the traffic sign. The file `signnames.csv` contains id -> name mappings for each id.\n",
    "- `'sizes'` is a list containing tuples, (width, height) representing the original width and height the image.\n",
    "- `'coords'` is a list containing tuples, (x1, y1, x2, y2) representing coordinates of a bounding box around the sign in the image. **THESE COORDINATES ASSUME THE ORIGINAL IMAGE. THE PICKLED DATA CONTAINS RESIZED VERSIONS (32 by 32) OF THESE IMAGES**\n",
    "\n",
    "Complete the basic data summary below. Use python, numpy and/or pandas methods to calculate the data summary rather than hard coding the results. For example, the [pandas shape method](http://pandas.pydata.org/pandas-docs/stable/generated/pandas.DataFrame.shape.html) might be useful for calculating some of the summary results. "
   ]
  },
  {
   "cell_type": "markdown",
   "metadata": {},
   "source": [
    "### Provide a Basic Summary of the Data Set Using Python, Numpy and/or Pandas"
   ]
  },
  {
   "cell_type": "code",
   "execution_count": 2,
   "metadata": {},
   "outputs": [
    {
     "name": "stdout",
     "output_type": "stream",
     "text": [
      "Number of training examples = 34799\n",
      "Number of testing examples = 12630\n",
      "Image data shape = (32, 32, 3)\n",
      "Number of classes = 43\n"
     ]
    }
   ],
   "source": [
    "### Replace each question mark with the appropriate value. \n",
    "### Use python, pandas or numpy methods rather than hard coding the results\n",
    "\n",
    "# TODO: Number of training examples\n",
    "n_train = len(y_train)\n",
    "\n",
    "# TODO: Number of validation examples\n",
    "n_validation = len(y_valid)\n",
    "\n",
    "# TODO: Number of testing examples.\n",
    "n_test = len(y_test)\n",
    "\n",
    "# TODO: What's the shape of an traffic sign image?\n",
    "image_shape = X_train[0].shape\n",
    "\n",
    "# TODO: How many unique classes/labels there are in the dataset.\n",
    "import csv\n",
    "labels = []\n",
    "with open('signnames.csv', newline='') as csvfile:\n",
    "    for data in (csv.DictReader(csvfile)) :\n",
    "        labels.append(data)\n",
    "    \n",
    "n_classes = len(labels)\n",
    "\n",
    "print(\"Number of training examples =\", n_train)\n",
    "print(\"Number of testing examples =\", n_test)\n",
    "print(\"Image data shape =\", image_shape)\n",
    "print(\"Number of classes =\", n_classes)"
   ]
  },
  {
   "cell_type": "code",
   "execution_count": 56,
   "metadata": {},
   "outputs": [
    {
     "data": {
      "text/plain": [
       "4410"
      ]
     },
     "execution_count": 56,
     "metadata": {},
     "output_type": "execute_result"
    }
   ],
   "source": [
    "n_validation"
   ]
  },
  {
   "cell_type": "code",
   "execution_count": 77,
   "metadata": {},
   "outputs": [
    {
     "name": "stdout",
     "output_type": "stream",
     "text": [
      "[  180.  1980.  2010.  1260.  1770.  1650.   360.  1290.  1260.  1320.\n",
      "  1800.  1170.  1890.  1920.   690.   540.   360.   990.  1080.   180.\n",
      "   300.   270.   330.   450.   240.  1350.   540.   210.   480.   240.\n",
      "   390.   690.   210.   599.   360.  1080.   330.   180.  1860.   270.\n",
      "   300.   210.   210.]\n"
     ]
    },
    {
     "data": {
      "image/png": "[encoded data removed]",
      "text/plain": [
       "<matplotlib.figure.Figure at 0x7ff9ec9e96d8>"
      ]
     },
     "metadata": {
      "needs_background": "light"
     },
     "output_type": "display_data"
    }
   ],
   "source": [
    "distrbutino_train = np.zeros((n_train, n_classes))\n",
    "for i in range(n_train) :\n",
    "    distrbutino_train[i][y_train[i]] = 1\n",
    "print (np.sum(distrbutino_train, 0))\n",
    "plt.bar(range(n_classes), np.sum(distrbutino_train, 0))\n",
    "plt.title('Distrbutino of training set')\n",
    "plt.show()"
   ]
  },
  {
   "cell_type": "code",
   "execution_count": 84,
   "metadata": {},
   "outputs": [
    {
     "data": {
      "image/png": "[encoded data removed]",
      "text/plain": [
       "<matplotlib.figure.Figure at 0x7ff9ef41a6a0>"
      ]
     },
     "metadata": {
      "needs_background": "light"
     },
     "output_type": "display_data"
    }
   ],
   "source": [
    "distrbutino_test = np.zeros((n_test, n_classes))\n",
    "for i in range(n_test) :\n",
    "    distrbutino_test[i][y_test[i]] = 1\n",
    "# print (np.sum(distrbutino_test, 0))\n",
    "plt.bar(range(n_classes), np.sum(distrbutino_test, 0))\n",
    "plt.title('Distrbutino of testing set')\n",
    "plt.show()"
   ]
  },
  {
   "cell_type": "code",
   "execution_count": 83,
   "metadata": {},
   "outputs": [
    {
     "data": {
      "image/png": "[encoded data removed]",
      "text/plain": [
       "<matplotlib.figure.Figure at 0x7ffa35d8f978>"
      ]
     },
     "metadata": {
      "needs_background": "light"
     },
     "output_type": "display_data"
    }
   ],
   "source": [
    "distrbutino_valid = np.zeros((n_validation, n_classes))\n",
    "for i in range(n_validation) :\n",
    "    distrbutino_valid[i][y_valid[i]] = 1\n",
    "# print (np.sum(distrbutino_vaild, 0))\n",
    "plt.bar(range(n_classes), np.sum(distrbutino_valid, 0))\n",
    "plt.title('Distrbutino of validation set')\n",
    "plt.show()"
   ]
  },
  {
   "cell_type": "code",
   "execution_count": 3,
   "metadata": {},
   "outputs": [
    {
     "data": {
      "text/plain": [
       "[OrderedDict([('ClassId', '0'), ('SignName', 'Speed limit (20km/h)')]),\n",
       " OrderedDict([('ClassId', '1'), ('SignName', 'Speed limit (30km/h)')]),\n",
       " OrderedDict([('ClassId', '2'), ('SignName', 'Speed limit (50km/h)')]),\n",
       " OrderedDict([('ClassId', '3'), ('SignName', 'Speed limit (60km/h)')]),\n",
       " OrderedDict([('ClassId', '4'), ('SignName', 'Speed limit (70km/h)')]),\n",
       " OrderedDict([('ClassId', '5'), ('SignName', 'Speed limit (80km/h)')]),\n",
       " OrderedDict([('ClassId', '6'), ('SignName', 'End of speed limit (80km/h)')]),\n",
       " OrderedDict([('ClassId', '7'), ('SignName', 'Speed limit (100km/h)')]),\n",
       " OrderedDict([('ClassId', '8'), ('SignName', 'Speed limit (120km/h)')]),\n",
       " OrderedDict([('ClassId', '9'), ('SignName', 'No passing')]),\n",
       " OrderedDict([('ClassId', '10'),\n",
       "              ('SignName', 'No passing for vehicles over 3.5 metric tons')]),\n",
       " OrderedDict([('ClassId', '11'),\n",
       "              ('SignName', 'Right-of-way at the next intersection')]),\n",
       " OrderedDict([('ClassId', '12'), ('SignName', 'Priority road')]),\n",
       " OrderedDict([('ClassId', '13'), ('SignName', 'Yield')]),\n",
       " OrderedDict([('ClassId', '14'), ('SignName', 'Stop')]),\n",
       " OrderedDict([('ClassId', '15'), ('SignName', 'No vehicles')]),\n",
       " OrderedDict([('ClassId', '16'),\n",
       "              ('SignName', 'Vehicles over 3.5 metric tons prohibited')]),\n",
       " OrderedDict([('ClassId', '17'), ('SignName', 'No entry')]),\n",
       " OrderedDict([('ClassId', '18'), ('SignName', 'General caution')]),\n",
       " OrderedDict([('ClassId', '19'), ('SignName', 'Dangerous curve to the left')]),\n",
       " OrderedDict([('ClassId', '20'),\n",
       "              ('SignName', 'Dangerous curve to the right')]),\n",
       " OrderedDict([('ClassId', '21'), ('SignName', 'Double curve')]),\n",
       " OrderedDict([('ClassId', '22'), ('SignName', 'Bumpy road')]),\n",
       " OrderedDict([('ClassId', '23'), ('SignName', 'Slippery road')]),\n",
       " OrderedDict([('ClassId', '24'), ('SignName', 'Road narrows on the right')]),\n",
       " OrderedDict([('ClassId', '25'), ('SignName', 'Road work')]),\n",
       " OrderedDict([('ClassId', '26'), ('SignName', 'Traffic signals')]),\n",
       " OrderedDict([('ClassId', '27'), ('SignName', 'Pedestrians')]),\n",
       " OrderedDict([('ClassId', '28'), ('SignName', 'Children crossing')]),\n",
       " OrderedDict([('ClassId', '29'), ('SignName', 'Bicycles crossing')]),\n",
       " OrderedDict([('ClassId', '30'), ('SignName', 'Beware of ice/snow')]),\n",
       " OrderedDict([('ClassId', '31'), ('SignName', 'Wild animals crossing')]),\n",
       " OrderedDict([('ClassId', '32'),\n",
       "              ('SignName', 'End of all speed and passing limits')]),\n",
       " OrderedDict([('ClassId', '33'), ('SignName', 'Turn right ahead')]),\n",
       " OrderedDict([('ClassId', '34'), ('SignName', 'Turn left ahead')]),\n",
       " OrderedDict([('ClassId', '35'), ('SignName', 'Ahead only')]),\n",
       " OrderedDict([('ClassId', '36'), ('SignName', 'Go straight or right')]),\n",
       " OrderedDict([('ClassId', '37'), ('SignName', 'Go straight or left')]),\n",
       " OrderedDict([('ClassId', '38'), ('SignName', 'Keep right')]),\n",
       " OrderedDict([('ClassId', '39'), ('SignName', 'Keep left')]),\n",
       " OrderedDict([('ClassId', '40'), ('SignName', 'Roundabout mandatory')]),\n",
       " OrderedDict([('ClassId', '41'), ('SignName', 'End of no passing')]),\n",
       " OrderedDict([('ClassId', '42'),\n",
       "              ('SignName',\n",
       "               'End of no passing by vehicles over 3.5 metric tons')])]"
      ]
     },
     "execution_count": 3,
     "metadata": {},
     "output_type": "execute_result"
    }
   ],
   "source": [
    "labels"
   ]
  },
  {
   "cell_type": "code",
   "execution_count": 14,
   "metadata": {},
   "outputs": [
    {
     "data": {
      "text/plain": [
       "'Roundabout mandatory'"
      ]
     },
     "execution_count": 14,
     "metadata": {},
     "output_type": "execute_result"
    }
   ],
   "source": [
    "labels[40]['SignName']"
   ]
  },
  {
   "cell_type": "markdown",
   "metadata": {},
   "source": [
    "### Include an exploratory visualization of the dataset"
   ]
  },
  {
   "cell_type": "markdown",
   "metadata": {},
   "source": [
    "Visualize the German Traffic Signs Dataset using the pickled file(s). This is open ended, suggestions include: plotting traffic sign images, plotting the count of each sign, etc. \n",
    "\n",
    "The [Matplotlib](http://matplotlib.org/) [examples](http://matplotlib.org/examples/index.html) and [gallery](http://matplotlib.org/gallery.html) pages are a great resource for doing visualizations in Python.\n",
    "\n",
    "**NOTE:** It's recommended you start with something simple first. If you wish to do more, come back to it after you've completed the rest of the sections. It can be interesting to look at the distribution of classes in the training, validation and test set. Is the distribution the same? Are there more examples of some classes than others?"
   ]
  },
  {
   "cell_type": "code",
   "execution_count": 3,
   "metadata": {},
   "outputs": [],
   "source": [
    "### Data exploration visualization code goes here.\n",
    "### Feel free to use as many code cells as needed.\n",
    "import matplotlib.pyplot as plt\n",
    "import random\n",
    "# Visualizations will be shown in the notebook.\n",
    "%matplotlib inline"
   ]
  },
  {
   "cell_type": "code",
   "execution_count": 4,
   "metadata": {},
   "outputs": [
    {
     "name": "stdout",
     "output_type": "stream",
     "text": [
      "Beware of ice/snow\n"
     ]
    },
    {
     "data": {
      "image/png": "[encoded data removed]",
      "text/plain": [
       "<matplotlib.figure.Figure at 0x7fb7a5c73a58>"
      ]
     },
     "metadata": {
      "needs_background": "light"
     },
     "output_type": "display_data"
    }
   ],
   "source": [
    "index = random.randint(0, len(X_train))\n",
    "image = X_train[index].squeeze()\n",
    "\n",
    "plt.figure(figsize=(1,1))\n",
    "plt.imshow(image)\n",
    "print(labels[y_train[index]]['SignName'])"
   ]
  },
  {
   "cell_type": "markdown",
   "metadata": {},
   "source": [
    "----\n",
    "\n",
    "## Step 2: Design and Test a Model Architecture\n",
    "\n",
    "Design and implement a deep learning model that learns to recognize traffic signs. Train and test your model on the [German Traffic Sign Dataset](http://benchmark.ini.rub.de/?section=gtsrb&subsection=dataset).\n",
    "\n",
    "The LeNet-5 implementation shown in the [classroom](https://classroom.udacity.com/nanodegrees/nd013/parts/fbf77062-5703-404e-b60c-95b78b2f3f9e/modules/6df7ae49-c61c-4bb2-a23e-6527e69209ec/lessons/601ae704-1035-4287-8b11-e2c2716217ad/concepts/d4aca031-508f-4e0b-b493-e7b706120f81) at the end of the CNN lesson is a solid starting point. You'll have to change the number of classes and possibly the preprocessing, but aside from that it's plug and play! \n",
    "\n",
    "With the LeNet-5 solution from the lecture, you should expect a validation set accuracy of about 0.89. To meet specifications, the validation set accuracy will need to be at least 0.93. It is possible to get an even higher accuracy, but 0.93 is the minimum for a successful project submission. \n",
    "\n",
    "There are various aspects to consider when thinking about this problem:\n",
    "\n",
    "- Neural network architecture (is the network over or underfitting?)\n",
    "- Play around preprocessing techniques (normalization, rgb to grayscale, etc)\n",
    "- Number of examples per label (some have more than others).\n",
    "- Generate fake data.\n",
    "\n",
    "Here is an example of a [published baseline model on this problem](http://yann.lecun.com/exdb/publis/pdf/sermanet-ijcnn-11.pdf). It's not required to be familiar with the approach used in the paper but, it's good practice to try to read papers like these."
   ]
  },
  {
   "cell_type": "markdown",
   "metadata": {},
   "source": [
    "### Pre-process the Data Set (normalization, grayscale, etc.)"
   ]
  },
  {
   "cell_type": "markdown",
   "metadata": {},
   "source": [
    "Minimally, the image data should be normalized so that the data has mean zero and equal variance. For image data, `(pixel - 128)/ 128` is a quick way to approximately normalize the data and can be used in this project. \n",
    "\n",
    "Other pre-processing steps are optional. You can try different techniques to see if it improves performance. \n",
    "\n",
    "Use the code cell (or multiple code cells, if necessary) to implement the first step of your project."
   ]
  },
  {
   "cell_type": "code",
   "execution_count": 5,
   "metadata": {},
   "outputs": [],
   "source": [
    "### Preprocess the data here. It is required to normalize the data. Other preprocessing steps could include \n",
    "### converting to grayscale, etc.\n",
    "### Feel free to use as many code cells as needed.\n",
    "def norm(img) :\n",
    "    img = (img - 128.0) / 128.0\n",
    "    return img"
   ]
  },
  {
   "cell_type": "code",
   "execution_count": 6,
   "metadata": {},
   "outputs": [],
   "source": [
    "X_train_norm = norm(X_train)\n",
    "X_valid_norm = norm(X_valid)\n",
    "X_test_norm = norm(X_test)"
   ]
  },
  {
   "cell_type": "code",
   "execution_count": 10,
   "metadata": {},
   "outputs": [
    {
     "data": {
      "text/plain": [
       "array([[[-0.78125  , -0.8046875, -0.8125   ],\n",
       "        [-0.7890625, -0.8125   , -0.8203125],\n",
       "        [-0.7890625, -0.8125   , -0.828125 ],\n",
       "        ..., \n",
       "        [-0.75     , -0.78125  , -0.8125   ],\n",
       "        [-0.7578125, -0.7890625, -0.8046875],\n",
       "        [-0.7578125, -0.7890625, -0.796875 ]],\n",
       "\n",
       "       [[-0.7734375, -0.796875 , -0.8046875],\n",
       "        [-0.7890625, -0.8046875, -0.8203125],\n",
       "        [-0.7890625, -0.8046875, -0.8203125],\n",
       "        ..., \n",
       "        [-0.75     , -0.78125  , -0.8125   ],\n",
       "        [-0.7578125, -0.7890625, -0.8125   ],\n",
       "        [-0.765625 , -0.7890625, -0.8046875]],\n",
       "\n",
       "       [[-0.78125  , -0.796875 , -0.796875 ],\n",
       "        [-0.7890625, -0.8046875, -0.8203125],\n",
       "        [-0.796875 , -0.8046875, -0.8203125],\n",
       "        ..., \n",
       "        [-0.75     , -0.78125  , -0.8125   ],\n",
       "        [-0.7578125, -0.7890625, -0.8125   ],\n",
       "        [-0.765625 , -0.7890625, -0.8046875]],\n",
       "\n",
       "       ..., \n",
       "       [[-0.7890625, -0.8125   , -0.8203125],\n",
       "        [-0.78125  , -0.8046875, -0.8125   ],\n",
       "        [-0.765625 , -0.8046875, -0.8125   ],\n",
       "        ..., \n",
       "        [-0.7890625, -0.8125   , -0.8203125],\n",
       "        [-0.78125  , -0.8125   , -0.828125 ],\n",
       "        [-0.7734375, -0.8046875, -0.828125 ]],\n",
       "\n",
       "       [[-0.78125  , -0.8203125, -0.8203125],\n",
       "        [-0.7734375, -0.8125   , -0.8125   ],\n",
       "        [-0.7578125, -0.8046875, -0.8125   ],\n",
       "        ..., \n",
       "        [-0.7890625, -0.8125   , -0.8203125],\n",
       "        [-0.78125  , -0.8125   , -0.828125 ],\n",
       "        [-0.78125  , -0.8125   , -0.8359375]],\n",
       "\n",
       "       [[-0.7734375, -0.8203125, -0.8203125],\n",
       "        [-0.765625 , -0.8125   , -0.8125   ],\n",
       "        [-0.75     , -0.8125   , -0.8203125],\n",
       "        ..., \n",
       "        [-0.7890625, -0.8125   , -0.828125 ],\n",
       "        [-0.7890625, -0.8203125, -0.8359375],\n",
       "        [-0.796875 , -0.828125 , -0.84375  ]]])"
      ]
     },
     "execution_count": 10,
     "metadata": {},
     "output_type": "execute_result"
    }
   ],
   "source": [
    "X_train_norm[0]"
   ]
  },
  {
   "cell_type": "markdown",
   "metadata": {},
   "source": [
    "### Model Architecture"
   ]
  },
  {
   "cell_type": "code",
   "execution_count": 7,
   "metadata": {},
   "outputs": [],
   "source": [
    "### Define your architecture here.\n",
    "### Feel free to use as many code cells as needed.\n",
    "# Store layers weight & bias\n",
    "import tensorflow as tf\n",
    "from tensorflow.contrib.layers import flatten\n",
    "\n",
    "mu = 0\n",
    "sigma = 0.1\n",
    "\n",
    "weights = {\n",
    "    'wc1': tf.Variable(tf.truncated_normal([3, 3, 3, 32], mean = mu, stddev = sigma)),\n",
    "    'wc2': tf.Variable(tf.truncated_normal([3, 3, 32, 64], mean = mu, stddev = sigma)),\n",
    "    'wc3': tf.Variable(tf.truncated_normal([3, 3, 64, 128], mean = mu, stddev = sigma)),\n",
    "    'wc4': tf.Variable(tf.truncated_normal([1, 1, 128, 64], mean = mu, stddev = sigma)),\n",
    "    'wd1': tf.Variable(tf.truncated_normal([8*8*64, 1024], mean = mu, stddev = sigma)),\n",
    "    'out': tf.Variable(tf.truncated_normal([1024, n_classes], mean = mu, stddev = sigma))}\n",
    "\n",
    "biases = {\n",
    "    'bc1': tf.Variable(tf.zeros([32])),\n",
    "    'bc2': tf.Variable(tf.zeros([64])),\n",
    "    'bc3': tf.Variable(tf.zeros([128])),\n",
    "    'bc4': tf.Variable(tf.zeros([64])),\n",
    "    'bd1': tf.Variable(tf.zeros([1024])),\n",
    "    'out': tf.Variable(tf.zeros([n_classes]))}\n",
    "\n",
    "def model (inputs) :\n",
    "    conv1 = tf.nn.conv2d(inputs, weights['wc1'], strides=[1, 1, 1, 1], padding='SAME') + biases['bc1']\n",
    "    conv1 = tf.nn.relu(conv1)\n",
    "    conv1 = tf.nn.max_pool(conv1, ksize=[1, 2, 2, 1], strides=[1, 2, 2, 1], padding='SAME')\n",
    "    \n",
    "    conv2 = tf.nn.conv2d(conv1, weights['wc2'], strides=[1, 1, 1, 1], padding='SAME') + biases['bc2']\n",
    "    conv2 = tf.nn.relu(conv2)\n",
    "    conv2 = tf.nn.max_pool(conv2, ksize=[1, 2, 2, 1], strides=[1, 2, 2, 1], padding='SAME')\n",
    "    \n",
    "    conv3 = tf.nn.conv2d(conv2, weights['wc3'], strides=[1, 1, 1, 1], padding='SAME') + biases['bc3']\n",
    "    conv3 = tf.nn.relu(conv3)\n",
    "    \n",
    "    conv4 = tf.nn.conv2d(conv3, weights['wc4'], strides=[1, 1, 1, 1], padding='VALID') + biases['bc4']\n",
    "    conv4 = tf.nn.relu(conv4)\n",
    "    \n",
    "    fc0 = flatten(conv4)\n",
    "\n",
    "    fc1 = tf.matmul(fc0, weights['wd1']) + biases['bd1']\n",
    "    fc1 = tf.nn.relu(fc1)\n",
    "    \n",
    "    out = tf.matmul(fc1, weights['out']) + biases['out']\n",
    "    \n",
    "    return out"
   ]
  },
  {
   "cell_type": "markdown",
   "metadata": {},
   "source": [
    "### Input / Output"
   ]
  },
  {
   "cell_type": "code",
   "execution_count": 8,
   "metadata": {},
   "outputs": [
    {
     "name": "stdout",
     "output_type": "stream",
     "text": [
      "done\n"
     ]
    }
   ],
   "source": [
    "x = tf.placeholder(tf.float32, (None, 32, 32, 3))\n",
    "y = tf.placeholder(tf.int32, (None))\n",
    "one_hot_y = tf.one_hot(y, n_classes)\n",
    "\n",
    "print (\"done\")"
   ]
  },
  {
   "cell_type": "markdown",
   "metadata": {},
   "source": [
    "### Hyperparameter"
   ]
  },
  {
   "cell_type": "code",
   "execution_count": 9,
   "metadata": {},
   "outputs": [
    {
     "name": "stdout",
     "output_type": "stream",
     "text": [
      "done\n"
     ]
    }
   ],
   "source": [
    "EPOCHS = 20\n",
    "BATCH_SIZE = 128\n",
    "LR = 0.001\n",
    "\n",
    "print ('done')"
   ]
  },
  {
   "cell_type": "markdown",
   "metadata": {},
   "source": [
    "### Train, Validate and Test the Model"
   ]
  },
  {
   "cell_type": "markdown",
   "metadata": {},
   "source": [
    "A validation set can be used to assess how well the model is performing. A low accuracy on the training and validation\n",
    "sets imply underfitting. A high accuracy on the training set but low accuracy on the validation set implies overfitting."
   ]
  },
  {
   "cell_type": "code",
   "execution_count": 10,
   "metadata": {},
   "outputs": [
    {
     "name": "stdout",
     "output_type": "stream",
     "text": [
      "done\n"
     ]
    }
   ],
   "source": [
    "### Train your model here.\n",
    "### Calculate and report the accuracy on the training and validation set.\n",
    "### Once a final model architecture is selected, \n",
    "### the accuracy on the test set should be calculated and reported as well.\n",
    "### Feel free to use as many code cells as needed.\n",
    "\n",
    "logits = model(x)\n",
    "cross_entropy = tf.nn.softmax_cross_entropy_with_logits(labels=one_hot_y, logits=logits)\n",
    "loss_operation = tf.reduce_mean(cross_entropy)\n",
    "optimizer = tf.train.AdamOptimizer(learning_rate = LR)\n",
    "training_operation = optimizer.minimize(loss_operation)\n",
    "\n",
    "print ('done')"
   ]
  },
  {
   "cell_type": "code",
   "execution_count": 11,
   "metadata": {},
   "outputs": [
    {
     "name": "stdout",
     "output_type": "stream",
     "text": [
      "done\n"
     ]
    }
   ],
   "source": [
    "correct_prediction = tf.equal(tf.argmax(logits, 1), tf.argmax(one_hot_y, 1))\n",
    "accuracy_operation = tf.reduce_mean(tf.cast(correct_prediction, tf.float32))\n",
    "saver = tf.train.Saver()\n",
    "\n",
    "def evaluate(X_data, y_data):\n",
    "    num_examples = len(X_data)\n",
    "    total_accuracy = 0\n",
    "    sess = tf.get_default_session()\n",
    "    for offset in range(0, num_examples, BATCH_SIZE):\n",
    "        end = offset + BATCH_SIZE\n",
    "        if (end > num_examples) :\n",
    "            end = num_examples\n",
    "        batch_x, batch_y = X_data[offset:end], y_data[offset:end]\n",
    "        accuracy = sess.run(accuracy_operation, feed_dict={x: batch_x, y: batch_y})\n",
    "        total_accuracy += (accuracy * len(batch_x))\n",
    "    return total_accuracy / num_examples\n",
    "\n",
    "print ('done')"
   ]
  },
  {
   "cell_type": "code",
   "execution_count": 13,
   "metadata": {},
   "outputs": [
    {
     "name": "stdout",
     "output_type": "stream",
     "text": [
      "Training...\n",
      "\n",
      "EPOCH 1 ...\n",
      "Validation Accuracy = 0.841\n",
      "Test Accuracy = 0.848\n",
      "\n",
      "EPOCH 2 ...\n",
      "Validation Accuracy = 0.868\n",
      "Test Accuracy = 0.896\n",
      "\n",
      "EPOCH 3 ...\n",
      "Validation Accuracy = 0.878\n",
      "Test Accuracy = 0.890\n",
      "\n",
      "EPOCH 4 ...\n",
      "Validation Accuracy = 0.876\n",
      "Test Accuracy = 0.894\n",
      "\n",
      "EPOCH 5 ...\n",
      "Validation Accuracy = 0.877\n",
      "Test Accuracy = 0.903\n",
      "\n",
      "EPOCH 6 ...\n",
      "Validation Accuracy = 0.884\n",
      "Test Accuracy = 0.904\n",
      "\n",
      "EPOCH 7 ...\n",
      "Validation Accuracy = 0.905\n",
      "Test Accuracy = 0.908\n",
      "\n",
      "EPOCH 8 ...\n",
      "Validation Accuracy = 0.922\n",
      "Test Accuracy = 0.923\n",
      "\n",
      "EPOCH 9 ...\n",
      "Validation Accuracy = 0.930\n",
      "Test Accuracy = 0.921\n",
      "\n",
      "EPOCH 10 ...\n",
      "Validation Accuracy = 0.932\n",
      "Test Accuracy = 0.921\n",
      "\n",
      "EPOCH 11 ...\n",
      "Validation Accuracy = 0.939\n",
      "Test Accuracy = 0.929\n",
      "\n",
      "EPOCH 12 ...\n",
      "Validation Accuracy = 0.913\n",
      "Test Accuracy = 0.922\n",
      "\n",
      "EPOCH 13 ...\n",
      "Validation Accuracy = 0.924\n",
      "Test Accuracy = 0.918\n",
      "\n",
      "EPOCH 14 ...\n",
      "Validation Accuracy = 0.915\n",
      "Test Accuracy = 0.923\n",
      "\n",
      "EPOCH 15 ...\n",
      "Validation Accuracy = 0.922\n",
      "Test Accuracy = 0.912\n",
      "\n",
      "EPOCH 16 ...\n",
      "Validation Accuracy = 0.940\n",
      "Test Accuracy = 0.928\n",
      "\n",
      "EPOCH 17 ...\n",
      "Validation Accuracy = 0.927\n",
      "Test Accuracy = 0.921\n",
      "\n",
      "EPOCH 18 ...\n",
      "Validation Accuracy = 0.934\n",
      "Test Accuracy = 0.930\n",
      "\n",
      "EPOCH 19 ...\n",
      "Validation Accuracy = 0.948\n",
      "Test Accuracy = 0.940\n",
      "\n",
      "EPOCH 20 ...\n",
      "Validation Accuracy = 0.930\n",
      "Test Accuracy = 0.919\n",
      "\n",
      "done\n"
     ]
    }
   ],
   "source": [
    "from sklearn.utils import shuffle\n",
    "\n",
    "vaild_list = []\n",
    "test_list = []\n",
    "\n",
    "result = 0.0\n",
    "\n",
    "with tf.Session() as sess:\n",
    "    sess.run(tf.global_variables_initializer())\n",
    "    num_examples = len(X_train_norm)\n",
    "    \n",
    "    print(\"Training...\")\n",
    "    print()\n",
    "    for i in range(EPOCHS):\n",
    "        X_train_norm, y_train = shuffle(X_train_norm, y_train)\n",
    "        for offset in range(0, num_examples, BATCH_SIZE):\n",
    "            end = offset + BATCH_SIZE\n",
    "            if (end > num_examples) :\n",
    "                end = num_examples\n",
    "            batch_x, batch_y = X_train_norm[offset:end], y_train[offset:end]\n",
    "            sess.run(training_operation, feed_dict={x: batch_x, y: batch_y})\n",
    "            \n",
    "        validation_accuracy = evaluate(X_valid_norm, y_valid)\n",
    "        test_accuracy = evaluate(X_test_norm, y_test)\n",
    "        vaild_list.append(validation_accuracy)\n",
    "        test_list.append(test_accuracy)\n",
    "        print(\"EPOCH {} ...\".format(i+1))\n",
    "        print(\"Validation Accuracy = {:.3f}\".format(validation_accuracy))\n",
    "        print(\"Test Accuracy = {:.3f}\".format(test_accuracy))\n",
    "        print()\n",
    "        \n",
    "        if (result < test_accuracy) :\n",
    "            saver.save(sess, './traffic_sign_best')\n",
    "            result = test_accuracy\n",
    "            \n",
    "#     print(\"Model saved\")\n",
    "    print (\"done\")"
   ]
  },
  {
   "cell_type": "code",
   "execution_count": 14,
   "metadata": {},
   "outputs": [
    {
     "name": "stdout",
     "output_type": "stream",
     "text": [
      "(111, 32, 32, 3)\n"
     ]
    }
   ],
   "source": [
    "# for offset in range(0, 34799, BATCH_SIZE):\n",
    "#     print(offset)\n",
    "print (X_train[offset:34799].shape)"
   ]
  },
  {
   "cell_type": "code",
   "execution_count": 15,
   "metadata": {},
   "outputs": [
    {
     "data": {
      "image/png": "[encoded data removed]",
      "text/plain": [
       "<matplotlib.figure.Figure at 0x7fa9cce2bfd0>"
      ]
     },
     "metadata": {
      "needs_background": "light"
     },
     "output_type": "display_data"
    }
   ],
   "source": [
    "plt.plot(range(EPOCHS), vaild_list, 'b-')\n",
    "plt.plot(range(EPOCHS), test_list, 'g-')\n",
    "plt.ylabel('Accuracy')\n",
    "plt.xlabel('Epoch')\n",
    "plt.show()"
   ]
  },
  {
   "cell_type": "markdown",
   "metadata": {},
   "source": [
    "---\n",
    "\n",
    "## Step 3: Test a Model on New Images\n",
    "\n",
    "To give yourself more insight into how your model is working, download at least five pictures of German traffic signs from the web and use your model to predict the traffic sign type.\n",
    "\n",
    "You may find `signnames.csv` useful as it contains mappings from the class id (integer) to the actual sign name."
   ]
  },
  {
   "cell_type": "markdown",
   "metadata": {},
   "source": [
    "### Load and Output the Images"
   ]
  },
  {
   "cell_type": "code",
   "execution_count": 155,
   "metadata": {},
   "outputs": [],
   "source": [
    "### Load the images and plot them here.\n",
    "### Feel free to use as many code cells as needed.\n",
    "import glob\n",
    "\n",
    "data_list = glob.glob(('./testing imgs/*.jpg'))\n",
    "real_label = np.array([38, 28, 13, 7, 2])"
   ]
  },
  {
   "cell_type": "code",
   "execution_count": 33,
   "metadata": {},
   "outputs": [
    {
     "data": {
      "text/plain": [
       "['./testing imgs/turn right ahead.jpg',\n",
       " './testing imgs/children crossing.jpg',\n",
       " './testing imgs/yeild.jpg',\n",
       " './testing imgs/Speed limit.jpg',\n",
       " './testing imgs/speed limit sign.jpg']"
      ]
     },
     "execution_count": 33,
     "metadata": {},
     "output_type": "execute_result"
    }
   ],
   "source": [
    "data_list"
   ]
  },
  {
   "cell_type": "code",
   "execution_count": 13,
   "metadata": {},
   "outputs": [
    {
     "data": {
      "image/png": "[encoded data removed]",
      "text/plain": [
       "<matplotlib.figure.Figure at 0x7ffa371bc6d8>"
      ]
     },
     "metadata": {
      "needs_background": "light"
     },
     "output_type": "display_data"
    }
   ],
   "source": [
    "from PIL import Image\n",
    "import numpy as np\n",
    "# img = Image.open(data_list[0])\n",
    "# img.thumbnail((32, 32), Image.ANTIALIAS)\n",
    "# np.array(img).shape\n",
    "\n",
    "fig = plt.figure()\n",
    "\n",
    "for i, file_name in enumerate (data_list) :\n",
    "    img = Image.open(file_name)\n",
    "    img = img.resize((32, 32))\n",
    "    fig.add_subplot(1, 5, i + 1).imshow(img)\n",
    "    \n",
    "plt.show()"
   ]
  },
  {
   "cell_type": "code",
   "execution_count": 96,
   "metadata": {},
   "outputs": [
    {
     "name": "stdout",
     "output_type": "stream",
     "text": [
      "INFO:tensorflow:Restoring parameters from ./traffic_sign_best\n",
      "Test Accuracy = 0.940\n"
     ]
    }
   ],
   "source": [
    "with tf.Session() as sess:\n",
    "    saver.restore(sess, tf.train.latest_checkpoint('.'))\n",
    "\n",
    "    test_accuracy = evaluate(X_test_norm, y_test)\n",
    "    print(\"Test Accuracy = {:.3f}\".format(test_accuracy))"
   ]
  },
  {
   "cell_type": "code",
   "execution_count": 85,
   "metadata": {},
   "outputs": [
    {
     "name": "stdout",
     "output_type": "stream",
     "text": [
      "INFO:tensorflow:Restoring parameters from ./traffic_sign_best\n",
      "Train Accuracy = 1.000\n"
     ]
    }
   ],
   "source": [
    "with tf.Session() as sess:\n",
    "    saver.restore(sess, tf.train.latest_checkpoint('.'))\n",
    "\n",
    "    test_accuracy = evaluate(X_train_norm, y_train)\n",
    "    print(\"Train Accuracy = {:.3f}\".format(test_accuracy))"
   ]
  },
  {
   "cell_type": "markdown",
   "metadata": {},
   "source": [
    "### Predict the Sign Type for Each Image"
   ]
  },
  {
   "cell_type": "code",
   "execution_count": 158,
   "metadata": {},
   "outputs": [
    {
     "name": "stdout",
     "output_type": "stream",
     "text": [
      "INFO:tensorflow:Restoring parameters from ./traffic_sign_best\n",
      "Keep right\n",
      "Right-of-way at the next intersection\n",
      "Yield\n",
      "Pedestrians\n",
      "Speed limit (30km/h)\n"
     ]
    },
    {
     "data": {
      "image/png": "[encoded data removed]",
      "text/plain": [
       "<matplotlib.figure.Figure at 0x7ffa35f87908>"
      ]
     },
     "metadata": {
      "needs_background": "light"
     },
     "output_type": "display_data"
    }
   ],
   "source": [
    "with tf.Session() as sess:\n",
    "    fig = plt.figure()\n",
    "    saver.restore(sess, tf.train.latest_checkpoint('.'))\n",
    "    for i, file_name in enumerate (data_list) :\n",
    "        img = Image.open(file_name)\n",
    "        img = img.resize((32, 32))\n",
    "\n",
    "        predict = sess.run(logits, feed_dict = {x :norm(np.array(img)).reshape(-1, 32, 32, 3)})\n",
    "\n",
    "        print (labels[np.argmax(predict)]['SignName'])\n",
    "        a = fig.add_subplot(5, 1, i + 1)\n",
    "#         a.set_title(labels[np.argmax(predict)]['SignName'])\n",
    "        a.imshow(img)\n",
    "    \n",
    "    plt.show()"
   ]
  },
  {
   "cell_type": "markdown",
   "metadata": {},
   "source": [
    "### Analyze Performance"
   ]
  },
  {
   "cell_type": "code",
   "execution_count": 156,
   "metadata": {
    "scrolled": false
   },
   "outputs": [
    {
     "name": "stdout",
     "output_type": "stream",
     "text": [
      "INFO:tensorflow:Restoring parameters from ./traffic_sign_best\n",
      "0.4\n"
     ]
    }
   ],
   "source": [
    "# real_label_one = tf.one_hot(, n_classes)\n",
    "img_list = []\n",
    "with tf.Session() as sess:\n",
    "    saver.restore(sess, tf.train.latest_checkpoint('.'))\n",
    "    for i, file_name in enumerate (data_list) :\n",
    "        img = Image.open(file_name)\n",
    "        img = img.resize((32, 32))\n",
    "        img_list.append(norm(np.array(img)))\n",
    "        \n",
    "    predict = sess.run(accuracy_operation, feed_dict = {x :np.array(img_list).reshape(-1, 32, 32, 3), y: real_label})\n",
    "    print (predict)\n",
    "      "
   ]
  },
  {
   "cell_type": "code",
   "execution_count": 3,
   "metadata": {
    "collapsed": true
   },
   "outputs": [],
   "source": [
    "### Run the predictions here and use the model to output the prediction for each image.\n",
    "### Make sure to pre-process the images with the same pre-processing pipeline used earlier.\n",
    "### Feel free to use as many code cells as needed."
   ]
  },
  {
   "cell_type": "code",
   "execution_count": 4,
   "metadata": {
    "collapsed": true
   },
   "outputs": [],
   "source": [
    "### Calculate the accuracy for these 5 new images. \n",
    "### For example, if the model predicted 1 out of 5 signs correctly, it's 20% accurate on these new images."
   ]
  },
  {
   "cell_type": "markdown",
   "metadata": {},
   "source": [
    "### Output Top 5 Softmax Probabilities For Each Image Found on the Web"
   ]
  },
  {
   "cell_type": "markdown",
   "metadata": {},
   "source": [
    "For each of the new images, print out the model's softmax probabilities to show the **certainty** of the model's predictions (limit the output to the top 5 probabilities for each image). [`tf.nn.top_k`](https://www.tensorflow.org/versions/r0.12/api_docs/python/nn.html#top_k) could prove helpful here. \n",
    "\n",
    "The example below demonstrates how tf.nn.top_k can be used to find the top k predictions for each image.\n",
    "\n",
    "`tf.nn.top_k` will return the values and indices (class ids) of the top k predictions. So if k=3, for each sign, it'll return the 3 largest probabilities (out of a possible 43) and the correspoding class ids.\n",
    "\n",
    "Take this numpy array as an example. The values in the array represent predictions. The array contains softmax probabilities for five candidate images with six possible classes. `tf.nn.top_k` is used to choose the three classes with the highest probability:\n",
    "\n",
    "```\n",
    "# (5, 6) array\n",
    "a = np.array([[ 0.24879643,  0.07032244,  0.12641572,  0.34763842,  0.07893497,\n",
    "         0.12789202],\n",
    "       [ 0.28086119,  0.27569815,  0.08594638,  0.0178669 ,  0.18063401,\n",
    "         0.15899337],\n",
    "       [ 0.26076848,  0.23664738,  0.08020603,  0.07001922,  0.1134371 ,\n",
    "         0.23892179],\n",
    "       [ 0.11943333,  0.29198961,  0.02605103,  0.26234032,  0.1351348 ,\n",
    "         0.16505091],\n",
    "       [ 0.09561176,  0.34396535,  0.0643941 ,  0.16240774,  0.24206137,\n",
    "         0.09155967]])\n",
    "```\n",
    "\n",
    "Running it through `sess.run(tf.nn.top_k(tf.constant(a), k=3))` produces:\n",
    "\n",
    "```\n",
    "TopKV2(values=array([[ 0.34763842,  0.24879643,  0.12789202],\n",
    "       [ 0.28086119,  0.27569815,  0.18063401],\n",
    "       [ 0.26076848,  0.23892179,  0.23664738],\n",
    "       [ 0.29198961,  0.26234032,  0.16505091],\n",
    "       [ 0.34396535,  0.24206137,  0.16240774]]), indices=array([[3, 0, 5],\n",
    "       [0, 1, 4],\n",
    "       [0, 5, 1],\n",
    "       [1, 3, 5],\n",
    "       [1, 4, 3]], dtype=int32))\n",
    "```\n",
    "\n",
    "Looking just at the first row we get `[ 0.34763842,  0.24879643,  0.12789202]`, you can confirm these are the 3 largest probabilities in `a`. You'll also notice `[3, 0, 5]` are the corresponding indices."
   ]
  },
  {
   "cell_type": "code",
   "execution_count": 153,
   "metadata": {},
   "outputs": [
    {
     "name": "stdout",
     "output_type": "stream",
     "text": [
      "INFO:tensorflow:Restoring parameters from ./traffic_sign_best\n",
      "TopKV2(values=array([[  9.99585688e-01,   4.14372829e-04,   8.12089285e-11,\n",
      "          1.32225229e-11,   1.89481026e-13],\n",
      "       [  9.99942541e-01,   5.41498957e-05,   2.16322314e-06,\n",
      "          4.58348666e-07,   3.74894341e-07],\n",
      "       [  9.92094696e-01,   7.84873590e-03,   5.66340386e-05,\n",
      "          1.75084919e-10,   3.82482448e-11],\n",
      "       [  6.46654785e-01,   2.72375852e-01,   7.86796436e-02,\n",
      "          1.37661316e-03,   3.09631781e-04],\n",
      "       [  1.00000000e+00,   8.64291451e-12,   1.94305131e-25,\n",
      "          4.92433979e-27,   5.42150242e-29]], dtype=float32), indices=array([[38, 34, 13, 33, 25],\n",
      "       [11, 28, 12, 14, 29],\n",
      "       [13, 10, 12, 14, 25],\n",
      "       [27,  2, 11, 21,  6],\n",
      "       [ 1,  2, 35, 31,  3]], dtype=int32))\n"
     ]
    }
   ],
   "source": [
    "### Print out the top five softmax probabilities for the predictions on the German traffic sign images found on the web. \n",
    "### Feel free to use as many code cells as needed.\n",
    "# real_label_one = tf.one_hot(, n_classes)\n",
    "img_list = []\n",
    "with tf.Session() as sess:\n",
    "    saver.restore(sess, tf.train.latest_checkpoint('.'))\n",
    "    for i, file_name in enumerate (data_list) :\n",
    "        img = Image.open(file_name)\n",
    "        img = img.resize((32, 32))\n",
    "        img_list.append(norm(np.array(img)))\n",
    "        \n",
    "    \n",
    "    predict = sess.run(tf.nn.softmax(logits), feed_dict = {x :np.array(img_list).reshape(-1, 32, 32, 3), y: real_label})\n",
    "    topk = sess.run(tf.nn.top_k(predict, k=5))\n",
    "    print (topk)\n",
    "      "
   ]
  },
  {
   "cell_type": "code",
   "execution_count": 46,
   "metadata": {},
   "outputs": [
    {
     "data": {
      "text/plain": [
       "array([[38, 34, 13, 33, 25],\n",
       "       [11, 28, 12, 14, 29],\n",
       "       [13, 10, 12, 14, 25],\n",
       "       [27,  2, 11, 21,  6],\n",
       "       [ 1,  2, 35, 31,  3]], dtype=int32)"
      ]
     },
     "execution_count": 46,
     "metadata": {},
     "output_type": "execute_result"
    }
   ],
   "source": [
    "topk.indices"
   ]
  },
  {
   "cell_type": "code",
   "execution_count": 148,
   "metadata": {},
   "outputs": [
    {
     "data": {
      "text/plain": [
       "46.246773"
      ]
     },
     "execution_count": 148,
     "metadata": {},
     "output_type": "execute_result"
    }
   ],
   "source": [
    "topk.values[0][0]"
   ]
  },
  {
   "cell_type": "code",
   "execution_count": 157,
   "metadata": {},
   "outputs": [
    {
     "name": "stdout",
     "output_type": "stream",
     "text": [
      "Real Sample 1, correct label is Keep right\n",
      "0.999586%  Keep right\n",
      "0.000414%  Turn left ahead\n",
      "0.000000%  Yield\n",
      "0.000000%  Turn right ahead\n",
      "0.000000%  Road work\n",
      "----------------------------\n",
      "Real Sample 2, correct label is Children crossing\n",
      "0.999943%  Right-of-way at the next intersection\n",
      "0.000054%  Children crossing\n",
      "0.000002%  Priority road\n",
      "0.000000%  Stop\n",
      "0.000000%  Bicycles crossing\n",
      "----------------------------\n",
      "Real Sample 3, correct label is Yield\n",
      "0.992095%  Yield\n",
      "0.007849%  No passing for vehicles over 3.5 metric tons\n",
      "0.000057%  Priority road\n",
      "0.000000%  Stop\n",
      "0.000000%  Road work\n",
      "----------------------------\n",
      "Real Sample 4, correct label is Speed limit (100km/h)\n",
      "0.646655%  Pedestrians\n",
      "0.272376%  Speed limit (50km/h)\n",
      "0.078680%  Right-of-way at the next intersection\n",
      "0.001377%  Double curve\n",
      "0.000310%  End of speed limit (80km/h)\n",
      "----------------------------\n",
      "Real Sample 5, correct label is Speed limit (50km/h)\n",
      "1.000000%  Speed limit (30km/h)\n",
      "0.000000%  Speed limit (50km/h)\n",
      "0.000000%  Ahead only\n",
      "0.000000%  Wild animals crossing\n",
      "0.000000%  Speed limit (60km/h)\n",
      "----------------------------\n"
     ]
    }
   ],
   "source": [
    "for i, L in enumerate(topk.indices) :\n",
    "    print ('Real Sample %d, correct label is %s'%((i + 1), labels[real_label[i]]['SignName']))\n",
    "    print (('%f'%(topk.values[i][0]) + '%  ' + '%s'%(labels[L[0]]['SignName'])))\n",
    "    print (('%f'%(topk.values[i][1]) + '%  ' + '%s'%(labels[L[1]]['SignName'])))\n",
    "    print (('%f'%(topk.values[i][2]) + '%  ' + '%s'%(labels[L[2]]['SignName'])))\n",
    "    print (('%f'%(topk.values[i][3]) + '%  ' + '%s'%(labels[L[3]]['SignName'])))\n",
    "    print (('%f'%(topk.values[i][4]) + '%  ' + '%s'%(labels[L[4]]['SignName'])))\n",
    "    print ('----------------------------')"
   ]
  },
  {
   "cell_type": "markdown",
   "metadata": {},
   "source": [
    "### Project Writeup\n",
    "\n",
    "Once you have completed the code implementation, document your results in a project writeup using this [template](https://github.com/udacity/CarND-Traffic-Sign-Classifier-Project/blob/master/writeup_template.md) as a guide. The writeup can be in a markdown or pdf file. "
   ]
  },
  {
   "cell_type": "markdown",
   "metadata": {},
   "source": [
    "# **Traffic Sign Recognition** \n",
    "\n",
    "## Writeup\n",
    "\n",
    "### You can use this file as a template for your writeup if you want to submit it as a markdown file, but feel free to use some other method and submit a pdf if you prefer.\n",
    "\n",
    "---\n",
    "\n",
    "**Build a Traffic Sign Recognition Project**\n",
    "\n",
    "The goals / steps of this project are the following:\n",
    "* Load the data set (see below for links to the project data set)\n",
    "* Explore, summarize and visualize the data set\n",
    "* Design, train and test a model architecture\n",
    "* Use the model to make predictions on new images\n",
    "* Analyze the softmax probabilities of the new images\n",
    "* Summarize the results with a written report\n",
    "\n",
    "\n",
    "[//]: # (Image References)\n",
    "\n",
    "[image1]: ./examples/visualization.jpg \"Visualization\"\n",
    "[image2]: ./examples/grayscale.jpg \"Grayscaling\"\n",
    "[image3]: ./examples/random_noise.jpg \"Random Noise\"\n",
    "[image4]: ./examples/placeholder.png \"Traffic Sign 1\"\n",
    "[image5]: ./examples/placeholder.png \"Traffic Sign 2\"\n",
    "[image6]: ./examples/placeholder.png \"Traffic Sign 3\"\n",
    "[image7]: ./examples/placeholder.png \"Traffic Sign 4\"\n",
    "[image8]: ./examples/placeholder.png \"Traffic Sign 5\"\n",
    "\n",
    "## Rubric Points\n",
    "### Here I will consider the [rubric points](https://review.udacity.com/#!/rubrics/481/view) individually and describe how I addressed each point in my implementation.  \n",
    "\n",
    "---\n",
    "### Writeup / README\n",
    "\n",
    "#### 1. Provide a Writeup / README that includes all the rubric points and how you addressed each one. You can submit your writeup as markdown or pdf. You can use this template as a guide for writing the report. The submission includes the project code.\n",
    "\n",
    "You're reading it! and here is a link to my [project code](https://github.com/udacity/CarND-Traffic-Sign-Classifier-Project/blob/master/Traffic_Sign_Classifier.ipynb)\n",
    "\n",
    "### Data Set Summary & Exploration\n",
    "\n",
    "#### 1. Provide a basic summary of the data set. In the code, the analysis should be done using python, numpy and/or pandas methods rather than hardcoding results manually.\n",
    "\n",
    "I used the pandas library to calculate summary statistics of the traffic\n",
    "signs data set:\n",
    "\n",
    "* The size of training set is ?\n",
    "* The size of the validation set is ?\n",
    "* The size of test set is ?\n",
    "* The shape of a traffic sign image is ?\n",
    "* The number of unique classes/labels in the data set is ?\n",
    "\n",
    "#### 2. Include an exploratory visualization of the dataset.\n",
    "\n",
    "Here is an exploratory visualization of the data set. It is a bar chart showing how the data ...\n",
    "\n",
    "![alt text][image1]\n",
    "\n",
    "### Design and Test a Model Architecture\n",
    "\n",
    "#### 1. Describe how you preprocessed the image data. What techniques were chosen and why did you choose these techniques? Consider including images showing the output of each preprocessing technique. Pre-processing refers to techniques such as converting to grayscale, normalization, etc. (OPTIONAL: As described in the \"Stand Out Suggestions\" part of the rubric, if you generated additional data for training, describe why you decided to generate additional data, how you generated the data, and provide example images of the additional data. Then describe the characteristics of the augmented training set like number of images in the set, number of images for each class, etc.)\n",
    "\n",
    "As a first step, I decided to convert the images to grayscale because ...\n",
    "\n",
    "Here is an example of a traffic sign image before and after grayscaling.\n",
    "\n",
    "![alt text][image2]\n",
    "\n",
    "As a last step, I normalized the image data because ...\n",
    "\n",
    "I decided to generate additional data because ... \n",
    "\n",
    "To add more data to the the data set, I used the following techniques because ... \n",
    "\n",
    "Here is an example of an original image and an augmented image:\n",
    "\n",
    "![alt text][image3]\n",
    "\n",
    "The difference between the original data set and the augmented data set is the following ... \n",
    "\n",
    "\n",
    "#### 2. Describe what your final model architecture looks like including model type, layers, layer sizes, connectivity, etc.) Consider including a diagram and/or table describing the final model.\n",
    "\n",
    "My final model consisted of the following layers:\n",
    "\n",
    "| Layer         \t\t|     Description\t        \t\t\t\t\t| \n",
    "|:---------------------:|:---------------------------------------------:| \n",
    "| Input         \t\t| 32x32x3 RGB image   \t\t\t\t\t\t\t| \n",
    "| Convolution 3x3     \t| 1x1 stride, same padding, outputs 32x32x64 \t|\n",
    "| RELU\t\t\t\t\t|\t\t\t\t\t\t\t\t\t\t\t\t|\n",
    "| Max pooling\t      \t| 2x2 stride,  outputs 16x16x64 \t\t\t\t|\n",
    "| Convolution 3x3\t    | etc.      \t\t\t\t\t\t\t\t\t|\n",
    "| Fully connected\t\t| etc.        \t\t\t\t\t\t\t\t\t|\n",
    "| Softmax\t\t\t\t| etc.        \t\t\t\t\t\t\t\t\t|\n",
    "|\t\t\t\t\t\t|\t\t\t\t\t\t\t\t\t\t\t\t|\n",
    "|\t\t\t\t\t\t|\t\t\t\t\t\t\t\t\t\t\t\t|\n",
    " \n",
    "\n",
    "\n",
    "#### 3. Describe how you trained your model. The discussion can include the type of optimizer, the batch size, number of epochs and any hyperparameters such as learning rate.\n",
    "\n",
    "To train the model, I used an ....\n",
    "\n",
    "#### 4. Describe the approach taken for finding a solution and getting the validation set accuracy to be at least 0.93. Include in the discussion the results on the training, validation and test sets and where in the code these were calculated. Your approach may have been an iterative process, in which case, outline the steps you took to get to the final solution and why you chose those steps. Perhaps your solution involved an already well known implementation or architecture. In this case, discuss why you think the architecture is suitable for the current problem.\n",
    "\n",
    "My final model results were:\n",
    "* training set accuracy of ?\n",
    "* validation set accuracy of ? \n",
    "* test set accuracy of ?\n",
    "\n",
    "If an iterative approach was chosen:\n",
    "* What was the first architecture that was tried and why was it chosen?\n",
    "* What were some problems with the initial architecture?\n",
    "* How was the architecture adjusted and why was it adjusted? Typical adjustments could include choosing a different model architecture, adding or taking away layers (pooling, dropout, convolution, etc), using an activation function or changing the activation function. One common justification for adjusting an architecture would be due to overfitting or underfitting. A high accuracy on the training set but low accuracy on the validation set indicates over fitting; a low accuracy on both sets indicates under fitting.\n",
    "* Which parameters were tuned? How were they adjusted and why?\n",
    "* What are some of the important design choices and why were they chosen? For example, why might a convolution layer work well with this problem? How might a dropout layer help with creating a successful model?\n",
    "\n",
    "If a well known architecture was chosen:\n",
    "* What architecture was chosen?\n",
    "* Why did you believe it would be relevant to the traffic sign application?\n",
    "* How does the final model's accuracy on the training, validation and test set provide evidence that the model is working well?\n",
    " \n",
    "\n",
    "### Test a Model on New Images\n",
    "\n",
    "#### 1. Choose five German traffic signs found on the web and provide them in the report. For each image, discuss what quality or qualities might be difficult to classify.\n",
    "\n",
    "Here are five German traffic signs that I found on the web:\n",
    "\n",
    "![alt text][image4] ![alt text][image5] ![alt text][image6] \n",
    "![alt text][image7] ![alt text][image8]\n",
    "\n",
    "The first image might be difficult to classify because ...\n",
    "\n",
    "#### 2. Discuss the model's predictions on these new traffic signs and compare the results to predicting on the test set. At a minimum, discuss what the predictions were, the accuracy on these new predictions, and compare the accuracy to the accuracy on the test set (OPTIONAL: Discuss the results in more detail as described in the \"Stand Out Suggestions\" part of the rubric).\n",
    "\n",
    "Here are the results of the prediction:\n",
    "\n",
    "| Image\t\t\t        |     Prediction\t        \t\t\t\t\t| \n",
    "|:---------------------:|:---------------------------------------------:| \n",
    "| Stop Sign      \t\t| Stop sign   \t\t\t\t\t\t\t\t\t| \n",
    "| U-turn     \t\t\t| U-turn \t\t\t\t\t\t\t\t\t\t|\n",
    "| Yield\t\t\t\t\t| Yield\t\t\t\t\t\t\t\t\t\t\t|\n",
    "| 100 km/h\t      \t\t| Bumpy Road\t\t\t\t\t \t\t\t\t|\n",
    "| Slippery Road\t\t\t| Slippery Road      \t\t\t\t\t\t\t|\n",
    "\n",
    "\n",
    "The model was able to correctly guess 4 of the 5 traffic signs, which gives an accuracy of 80%. This compares favorably to the accuracy on the test set of ...\n",
    "\n",
    "#### 3. Describe how certain the model is when predicting on each of the five new images by looking at the softmax probabilities for each prediction. Provide the top 5 softmax probabilities for each image along with the sign type of each probability. (OPTIONAL: as described in the \"Stand Out Suggestions\" part of the rubric, visualizations can also be provided such as bar charts)\n",
    "\n",
    "The code for making predictions on my final model is located in the 11th cell of the Ipython notebook.\n",
    "\n",
    "For the first image, the model is relatively sure that this is a stop sign (probability of 0.6), and the image does contain a stop sign. The top five soft max probabilities were\n",
    "\n",
    "| Probability         \t|     Prediction\t        \t\t\t\t\t| \n",
    "|:---------------------:|:---------------------------------------------:| \n",
    "| .60         \t\t\t| Stop sign   \t\t\t\t\t\t\t\t\t| \n",
    "| .20     \t\t\t\t| U-turn \t\t\t\t\t\t\t\t\t\t|\n",
    "| .05\t\t\t\t\t| Yield\t\t\t\t\t\t\t\t\t\t\t|\n",
    "| .04\t      \t\t\t| Bumpy Road\t\t\t\t\t \t\t\t\t|\n",
    "| .01\t\t\t\t    | Slippery Road      \t\t\t\t\t\t\t|\n",
    "\n",
    "\n",
    "For the second image ... \n",
    "\n",
    "### (Optional) Visualizing the Neural Network (See Step 4 of the Ipython notebook for more details)\n",
    "#### 1. Discuss the visual output of your trained network's feature maps. What characteristics did the neural network use to make classifications?\n",
    "\n",
    "\n"
   ]
  },
  {
   "cell_type": "markdown",
   "metadata": {},
   "source": [
    "> **Note**: Once you have completed all of the code implementations and successfully answered each question above, you may finalize your work by exporting the iPython Notebook as an HTML document. You can do this by using the menu above and navigating to  \\n\",\n",
    "    \"**File -> Download as -> HTML (.html)**. Include the finished document along with this notebook as your submission."
   ]
  },
  {
   "cell_type": "markdown",
   "metadata": {},
   "source": [
    "---\n",
    "\n",
    "## Step 4 (Optional): Visualize the Neural Network's State with Test Images\n",
    "\n",
    " This Section is not required to complete but acts as an additional excersise for understaning the output of a neural network's weights. While neural networks can be a great learning device they are often referred to as a black box. We can understand what the weights of a neural network look like better by plotting their feature maps. After successfully training your neural network you can see what it's feature maps look like by plotting the output of the network's weight layers in response to a test stimuli image. From these plotted feature maps, it's possible to see what characteristics of an image the network finds interesting. For a sign, maybe the inner network feature maps react with high activation to the sign's boundary outline or to the contrast in the sign's painted symbol.\n",
    "\n",
    " Provided for you below is the function code that allows you to get the visualization output of any tensorflow weight layer you want. The inputs to the function should be a stimuli image, one used during training or a new one you provided, and then the tensorflow variable name that represents the layer's state during the training process, for instance if you wanted to see what the [LeNet lab's](https://classroom.udacity.com/nanodegrees/nd013/parts/fbf77062-5703-404e-b60c-95b78b2f3f9e/modules/6df7ae49-c61c-4bb2-a23e-6527e69209ec/lessons/601ae704-1035-4287-8b11-e2c2716217ad/concepts/d4aca031-508f-4e0b-b493-e7b706120f81) feature maps looked like for it's second convolutional layer you could enter conv2 as the tf_activation variable.\n",
    "\n",
    "For an example of what feature map outputs look like, check out NVIDIA's results in their paper [End-to-End Deep Learning for Self-Driving Cars](https://devblogs.nvidia.com/parallelforall/deep-learning-self-driving-cars/) in the section Visualization of internal CNN State. NVIDIA was able to show that their network's inner weights had high activations to road boundary lines by comparing feature maps from an image with a clear path to one without. Try experimenting with a similar test to show that your trained network's weights are looking for interesting features, whether it's looking at differences in feature maps from images with or without a sign, or even what feature maps look like in a trained network vs a completely untrained one on the same sign image.\n",
    "\n",
    "<figure>\n",
    " <img src=\"visualize_cnn.png\" width=\"380\" alt=\"Combined Image\" />\n",
    " <figcaption>\n",
    " <p></p> \n",
    " <p style=\"text-align: center;\"> Your output should look something like this (above)</p> \n",
    " </figcaption>\n",
    "</figure>\n",
    " <p></p> \n"
   ]
  },
  {
   "cell_type": "code",
   "execution_count": 27,
   "metadata": {},
   "outputs": [
    {
     "name": "stdout",
     "output_type": "stream",
     "text": [
      "INFO:tensorflow:Restoring parameters from ./traffic_sign_best\n",
      "name: \"Conv2D\"\n",
      "op: \"Conv2D\"\n",
      "input: \"Placeholder\"\n",
      "input: \"Variable/read\"\n",
      "attr {\n",
      "  key: \"T\"\n",
      "  value {\n",
      "    type: DT_FLOAT\n",
      "  }\n",
      "}\n",
      "attr {\n",
      "  key: \"data_format\"\n",
      "  value {\n",
      "    s: \"NHWC\"\n",
      "  }\n",
      "}\n",
      "attr {\n",
      "  key: \"padding\"\n",
      "  value {\n",
      "    s: \"SAME\"\n",
      "  }\n",
      "}\n",
      "attr {\n",
      "  key: \"strides\"\n",
      "  value {\n",
      "    list {\n",
      "      i: 1\n",
      "      i: 1\n",
      "      i: 1\n",
      "      i: 1\n",
      "    }\n",
      "  }\n",
      "}\n",
      "attr {\n",
      "  key: \"use_cudnn_on_gpu\"\n",
      "  value {\n",
      "    b: true\n",
      "  }\n",
      "}\n",
      "\n"
     ]
    }
   ],
   "source": [
    "with tf.Session() as sess:\n",
    "    saver.restore(sess, tf.train.latest_checkpoint('.'))\n",
    "#     [print (n.name) for n in tf.get_default_graph().as_graph_def().node]\n",
    "#     bar = tf.get_default_graph().get_operation_by_name('Conv2D')\n",
    "#     print(bar)\n",
    "    bar = tf.get_default_graph().get_tensor_by_name('Conv2D')\n",
    "    outputFeatureMap(image_input,conv_layer_1_visual)\n",
    "    print(\"Conv Layer 1 Activation: \")"
   ]
  },
  {
   "cell_type": "code",
   "execution_count": 32,
   "metadata": {},
   "outputs": [
    {
     "name": "stdout",
     "output_type": "stream",
     "text": [
      "INFO:tensorflow:Restoring parameters from ./traffic_sign_best\n",
      "(<tf.Tensor 'truncated_normal/shape:0' shape=(4,) dtype=int32>,)\n",
      "(<tf.Tensor 'truncated_normal/mean:0' shape=() dtype=float32>,)\n",
      "(<tf.Tensor 'truncated_normal/stddev:0' shape=() dtype=float32>,)\n",
      "(<tf.Tensor 'truncated_normal/TruncatedNormal:0' shape=(3, 3, 3, 32) dtype=float32>,)\n",
      "(<tf.Tensor 'truncated_normal/mul:0' shape=(3, 3, 3, 32) dtype=float32>,)\n",
      "(<tf.Tensor 'truncated_normal:0' shape=(3, 3, 3, 32) dtype=float32>,)\n",
      "(<tf.Tensor 'Variable:0' shape=(3, 3, 3, 32) dtype=float32_ref>,)\n",
      "(<tf.Tensor 'Variable/Assign:0' shape=(3, 3, 3, 32) dtype=float32_ref>,)\n",
      "(<tf.Tensor 'Variable/read:0' shape=(3, 3, 3, 32) dtype=float32>,)\n",
      "(<tf.Tensor 'truncated_normal_1/shape:0' shape=(4,) dtype=int32>,)\n",
      "(<tf.Tensor 'truncated_normal_1/mean:0' shape=() dtype=float32>,)\n",
      "(<tf.Tensor 'truncated_normal_1/stddev:0' shape=() dtype=float32>,)\n",
      "(<tf.Tensor 'truncated_normal_1/TruncatedNormal:0' shape=(3, 3, 32, 64) dtype=float32>,)\n",
      "(<tf.Tensor 'truncated_normal_1/mul:0' shape=(3, 3, 32, 64) dtype=float32>,)\n",
      "(<tf.Tensor 'truncated_normal_1:0' shape=(3, 3, 32, 64) dtype=float32>,)\n",
      "(<tf.Tensor 'Variable_1:0' shape=(3, 3, 32, 64) dtype=float32_ref>,)\n",
      "(<tf.Tensor 'Variable_1/Assign:0' shape=(3, 3, 32, 64) dtype=float32_ref>,)\n",
      "(<tf.Tensor 'Variable_1/read:0' shape=(3, 3, 32, 64) dtype=float32>,)\n",
      "(<tf.Tensor 'truncated_normal_2/shape:0' shape=(4,) dtype=int32>,)\n",
      "(<tf.Tensor 'truncated_normal_2/mean:0' shape=() dtype=float32>,)\n",
      "(<tf.Tensor 'truncated_normal_2/stddev:0' shape=() dtype=float32>,)\n",
      "(<tf.Tensor 'truncated_normal_2/TruncatedNormal:0' shape=(3, 3, 64, 128) dtype=float32>,)\n",
      "(<tf.Tensor 'truncated_normal_2/mul:0' shape=(3, 3, 64, 128) dtype=float32>,)\n",
      "(<tf.Tensor 'truncated_normal_2:0' shape=(3, 3, 64, 128) dtype=float32>,)\n",
      "(<tf.Tensor 'Variable_2:0' shape=(3, 3, 64, 128) dtype=float32_ref>,)\n",
      "(<tf.Tensor 'Variable_2/Assign:0' shape=(3, 3, 64, 128) dtype=float32_ref>,)\n",
      "(<tf.Tensor 'Variable_2/read:0' shape=(3, 3, 64, 128) dtype=float32>,)\n",
      "(<tf.Tensor 'truncated_normal_3/shape:0' shape=(4,) dtype=int32>,)\n",
      "(<tf.Tensor 'truncated_normal_3/mean:0' shape=() dtype=float32>,)\n",
      "(<tf.Tensor 'truncated_normal_3/stddev:0' shape=() dtype=float32>,)\n",
      "(<tf.Tensor 'truncated_normal_3/TruncatedNormal:0' shape=(1, 1, 128, 64) dtype=float32>,)\n",
      "(<tf.Tensor 'truncated_normal_3/mul:0' shape=(1, 1, 128, 64) dtype=float32>,)\n",
      "(<tf.Tensor 'truncated_normal_3:0' shape=(1, 1, 128, 64) dtype=float32>,)\n",
      "(<tf.Tensor 'Variable_3:0' shape=(1, 1, 128, 64) dtype=float32_ref>,)\n",
      "(<tf.Tensor 'Variable_3/Assign:0' shape=(1, 1, 128, 64) dtype=float32_ref>,)\n",
      "(<tf.Tensor 'Variable_3/read:0' shape=(1, 1, 128, 64) dtype=float32>,)\n",
      "(<tf.Tensor 'truncated_normal_4/shape:0' shape=(2,) dtype=int32>,)\n",
      "(<tf.Tensor 'truncated_normal_4/mean:0' shape=() dtype=float32>,)\n",
      "(<tf.Tensor 'truncated_normal_4/stddev:0' shape=() dtype=float32>,)\n",
      "(<tf.Tensor 'truncated_normal_4/TruncatedNormal:0' shape=(4096, 1024) dtype=float32>,)\n",
      "(<tf.Tensor 'truncated_normal_4/mul:0' shape=(4096, 1024) dtype=float32>,)\n",
      "(<tf.Tensor 'truncated_normal_4:0' shape=(4096, 1024) dtype=float32>,)\n",
      "(<tf.Tensor 'Variable_4:0' shape=(4096, 1024) dtype=float32_ref>,)\n",
      "(<tf.Tensor 'Variable_4/Assign:0' shape=(4096, 1024) dtype=float32_ref>,)\n",
      "(<tf.Tensor 'Variable_4/read:0' shape=(4096, 1024) dtype=float32>,)\n",
      "(<tf.Tensor 'truncated_normal_5/shape:0' shape=(2,) dtype=int32>,)\n",
      "(<tf.Tensor 'truncated_normal_5/mean:0' shape=() dtype=float32>,)\n",
      "(<tf.Tensor 'truncated_normal_5/stddev:0' shape=() dtype=float32>,)\n",
      "(<tf.Tensor 'truncated_normal_5/TruncatedNormal:0' shape=(1024, 43) dtype=float32>,)\n",
      "(<tf.Tensor 'truncated_normal_5/mul:0' shape=(1024, 43) dtype=float32>,)\n",
      "(<tf.Tensor 'truncated_normal_5:0' shape=(1024, 43) dtype=float32>,)\n",
      "(<tf.Tensor 'Variable_5:0' shape=(1024, 43) dtype=float32_ref>,)\n",
      "(<tf.Tensor 'Variable_5/Assign:0' shape=(1024, 43) dtype=float32_ref>,)\n",
      "(<tf.Tensor 'Variable_5/read:0' shape=(1024, 43) dtype=float32>,)\n",
      "(<tf.Tensor 'zeros:0' shape=(32,) dtype=float32>,)\n",
      "(<tf.Tensor 'Variable_6:0' shape=(32,) dtype=float32_ref>,)\n",
      "(<tf.Tensor 'Variable_6/Assign:0' shape=(32,) dtype=float32_ref>,)\n",
      "(<tf.Tensor 'Variable_6/read:0' shape=(32,) dtype=float32>,)\n",
      "(<tf.Tensor 'zeros_1:0' shape=(64,) dtype=float32>,)\n",
      "(<tf.Tensor 'Variable_7:0' shape=(64,) dtype=float32_ref>,)\n",
      "(<tf.Tensor 'Variable_7/Assign:0' shape=(64,) dtype=float32_ref>,)\n",
      "(<tf.Tensor 'Variable_7/read:0' shape=(64,) dtype=float32>,)\n",
      "(<tf.Tensor 'zeros_2:0' shape=(128,) dtype=float32>,)\n",
      "(<tf.Tensor 'Variable_8:0' shape=(128,) dtype=float32_ref>,)\n",
      "(<tf.Tensor 'Variable_8/Assign:0' shape=(128,) dtype=float32_ref>,)\n",
      "(<tf.Tensor 'Variable_8/read:0' shape=(128,) dtype=float32>,)\n",
      "(<tf.Tensor 'zeros_3:0' shape=(64,) dtype=float32>,)\n",
      "(<tf.Tensor 'Variable_9:0' shape=(64,) dtype=float32_ref>,)\n",
      "(<tf.Tensor 'Variable_9/Assign:0' shape=(64,) dtype=float32_ref>,)\n",
      "(<tf.Tensor 'Variable_9/read:0' shape=(64,) dtype=float32>,)\n",
      "(<tf.Tensor 'zeros_4:0' shape=(1024,) dtype=float32>,)\n",
      "(<tf.Tensor 'Variable_10:0' shape=(1024,) dtype=float32_ref>,)\n",
      "(<tf.Tensor 'Variable_10/Assign:0' shape=(1024,) dtype=float32_ref>,)\n",
      "(<tf.Tensor 'Variable_10/read:0' shape=(1024,) dtype=float32>,)\n",
      "(<tf.Tensor 'zeros_5:0' shape=(43,) dtype=float32>,)\n",
      "(<tf.Tensor 'Variable_11:0' shape=(43,) dtype=float32_ref>,)\n",
      "(<tf.Tensor 'Variable_11/Assign:0' shape=(43,) dtype=float32_ref>,)\n",
      "(<tf.Tensor 'Variable_11/read:0' shape=(43,) dtype=float32>,)\n",
      "(<tf.Tensor 'Placeholder:0' shape=(?, 32, 32, 3) dtype=float32>,)\n",
      "(<tf.Tensor 'Placeholder_1:0' shape=<unknown> dtype=int32>,)\n",
      "(<tf.Tensor 'one_hot/on_value:0' shape=() dtype=float32>,)\n",
      "(<tf.Tensor 'one_hot/off_value:0' shape=() dtype=float32>,)\n",
      "(<tf.Tensor 'one_hot/depth:0' shape=() dtype=int32>,)\n",
      "(<tf.Tensor 'one_hot:0' shape=<unknown> dtype=float32>,)\n",
      "(<tf.Tensor 'Conv2D:0' shape=(?, 32, 32, 32) dtype=float32>,)\n",
      "(<tf.Tensor 'add:0' shape=(?, 32, 32, 32) dtype=float32>,)\n",
      "(<tf.Tensor 'Relu:0' shape=(?, 32, 32, 32) dtype=float32>,)\n",
      "(<tf.Tensor 'MaxPool:0' shape=(?, 16, 16, 32) dtype=float32>,)\n",
      "(<tf.Tensor 'Conv2D_1:0' shape=(?, 16, 16, 64) dtype=float32>,)\n",
      "(<tf.Tensor 'add_1:0' shape=(?, 16, 16, 64) dtype=float32>,)\n",
      "(<tf.Tensor 'Relu_1:0' shape=(?, 16, 16, 64) dtype=float32>,)\n",
      "(<tf.Tensor 'MaxPool_1:0' shape=(?, 8, 8, 64) dtype=float32>,)\n",
      "(<tf.Tensor 'Conv2D_2:0' shape=(?, 8, 8, 128) dtype=float32>,)\n",
      "(<tf.Tensor 'add_2:0' shape=(?, 8, 8, 128) dtype=float32>,)\n",
      "(<tf.Tensor 'Relu_2:0' shape=(?, 8, 8, 128) dtype=float32>,)\n",
      "(<tf.Tensor 'Conv2D_3:0' shape=(?, 8, 8, 64) dtype=float32>,)\n",
      "(<tf.Tensor 'add_3:0' shape=(?, 8, 8, 64) dtype=float32>,)\n",
      "(<tf.Tensor 'Relu_3:0' shape=(?, 8, 8, 64) dtype=float32>,)\n",
      "(<tf.Tensor 'Flatten/Shape:0' shape=(4,) dtype=int32>,)\n",
      "(<tf.Tensor 'Flatten/Slice/begin:0' shape=(1,) dtype=int32>,)\n",
      "(<tf.Tensor 'Flatten/Slice/size:0' shape=(1,) dtype=int32>,)\n",
      "(<tf.Tensor 'Flatten/Slice:0' shape=(1,) dtype=int32>,)\n",
      "(<tf.Tensor 'Flatten/Slice_1/begin:0' shape=(1,) dtype=int32>,)\n",
      "(<tf.Tensor 'Flatten/Slice_1/size:0' shape=(1,) dtype=int32>,)\n",
      "(<tf.Tensor 'Flatten/Slice_1:0' shape=(3,) dtype=int32>,)\n",
      "(<tf.Tensor 'Flatten/Const:0' shape=(1,) dtype=int32>,)\n",
      "(<tf.Tensor 'Flatten/Prod:0' shape=() dtype=int32>,)\n",
      "(<tf.Tensor 'Flatten/ExpandDims/dim:0' shape=() dtype=int32>,)\n",
      "(<tf.Tensor 'Flatten/ExpandDims:0' shape=(1,) dtype=int32>,)\n",
      "(<tf.Tensor 'Flatten/concat/axis:0' shape=() dtype=int32>,)\n",
      "(<tf.Tensor 'Flatten/concat:0' shape=(2,) dtype=int32>,)\n",
      "(<tf.Tensor 'Flatten/Reshape:0' shape=(?, 4096) dtype=float32>,)\n",
      "(<tf.Tensor 'MatMul:0' shape=(?, 1024) dtype=float32>,)\n",
      "(<tf.Tensor 'add_4:0' shape=(?, 1024) dtype=float32>,)\n",
      "(<tf.Tensor 'Relu_4:0' shape=(?, 1024) dtype=float32>,)\n",
      "(<tf.Tensor 'MatMul_1:0' shape=(?, 43) dtype=float32>,)\n",
      "(<tf.Tensor 'add_5:0' shape=(?, 43) dtype=float32>,)\n",
      "(<tf.Tensor 'Rank:0' shape=() dtype=int32>,)\n",
      "(<tf.Tensor 'Shape:0' shape=(2,) dtype=int32>,)\n",
      "(<tf.Tensor 'Rank_1:0' shape=() dtype=int32>,)\n",
      "(<tf.Tensor 'Shape_1:0' shape=(2,) dtype=int32>,)\n",
      "(<tf.Tensor 'Sub/y:0' shape=() dtype=int32>,)\n",
      "(<tf.Tensor 'Sub:0' shape=() dtype=int32>,)\n",
      "(<tf.Tensor 'Slice/begin:0' shape=(1,) dtype=int32>,)\n",
      "(<tf.Tensor 'Slice/size:0' shape=(1,) dtype=int32>,)\n",
      "(<tf.Tensor 'Slice:0' shape=(1,) dtype=int32>,)\n",
      "(<tf.Tensor 'concat/values_0:0' shape=(1,) dtype=int32>,)\n",
      "(<tf.Tensor 'concat/axis:0' shape=() dtype=int32>,)\n",
      "(<tf.Tensor 'concat:0' shape=(2,) dtype=int32>,)\n",
      "(<tf.Tensor 'Reshape:0' shape=(?, ?) dtype=float32>,)\n",
      "(<tf.Tensor 'Rank_2:0' shape=() dtype=int32>,)\n",
      "(<tf.Tensor 'Shape_2:0' shape=(?,) dtype=int32>,)\n",
      "(<tf.Tensor 'Sub_1/y:0' shape=() dtype=int32>,)\n",
      "(<tf.Tensor 'Sub_1:0' shape=() dtype=int32>,)\n",
      "(<tf.Tensor 'Slice_1/begin:0' shape=(1,) dtype=int32>,)\n",
      "(<tf.Tensor 'Slice_1/size:0' shape=(1,) dtype=int32>,)\n",
      "(<tf.Tensor 'Slice_1:0' shape=(1,) dtype=int32>,)\n",
      "(<tf.Tensor 'concat_1/values_0:0' shape=(1,) dtype=int32>,)\n",
      "(<tf.Tensor 'concat_1/axis:0' shape=() dtype=int32>,)\n",
      "(<tf.Tensor 'concat_1:0' shape=(2,) dtype=int32>,)\n",
      "(<tf.Tensor 'Reshape_1:0' shape=(?, ?) dtype=float32>,)\n",
      "(<tf.Tensor 'SoftmaxCrossEntropyWithLogits:0' shape=(?,) dtype=float32>, <tf.Tensor 'SoftmaxCrossEntropyWithLogits:1' shape=(?, ?) dtype=float32>)\n",
      "(<tf.Tensor 'Sub_2/y:0' shape=() dtype=int32>,)\n",
      "(<tf.Tensor 'Sub_2:0' shape=() dtype=int32>,)\n",
      "(<tf.Tensor 'Slice_2/begin:0' shape=(1,) dtype=int32>,)\n",
      "(<tf.Tensor 'Slice_2/size:0' shape=(1,) dtype=int32>,)\n",
      "(<tf.Tensor 'Slice_2:0' shape=(?,) dtype=int32>,)\n",
      "(<tf.Tensor 'Reshape_2:0' shape=(?,) dtype=float32>,)\n",
      "(<tf.Tensor 'Const:0' shape=(1,) dtype=int32>,)\n",
      "(<tf.Tensor 'Mean:0' shape=() dtype=float32>,)\n",
      "(<tf.Tensor 'gradients/Shape:0' shape=(0,) dtype=int32>,)\n",
      "(<tf.Tensor 'gradients/Const:0' shape=() dtype=float32>,)\n",
      "(<tf.Tensor 'gradients/Fill:0' shape=() dtype=float32>,)\n",
      "(<tf.Tensor 'gradients/Mean_grad/Reshape/shape:0' shape=(1,) dtype=int32>,)\n",
      "(<tf.Tensor 'gradients/Mean_grad/Reshape:0' shape=(1,) dtype=float32>,)\n",
      "(<tf.Tensor 'gradients/Mean_grad/Shape:0' shape=(1,) dtype=int32>,)\n",
      "(<tf.Tensor 'gradients/Mean_grad/Tile:0' shape=(?,) dtype=float32>,)\n",
      "(<tf.Tensor 'gradients/Mean_grad/Shape_1:0' shape=(1,) dtype=int32>,)\n",
      "(<tf.Tensor 'gradients/Mean_grad/Shape_2:0' shape=(0,) dtype=int32>,)\n",
      "(<tf.Tensor 'gradients/Mean_grad/Const:0' shape=(1,) dtype=int32>,)\n",
      "(<tf.Tensor 'gradients/Mean_grad/Prod:0' shape=() dtype=int32>,)\n",
      "(<tf.Tensor 'gradients/Mean_grad/Const_1:0' shape=(1,) dtype=int32>,)\n",
      "(<tf.Tensor 'gradients/Mean_grad/Prod_1:0' shape=() dtype=int32>,)\n",
      "(<tf.Tensor 'gradients/Mean_grad/Maximum/y:0' shape=() dtype=int32>,)\n",
      "(<tf.Tensor 'gradients/Mean_grad/Maximum:0' shape=() dtype=int32>,)\n",
      "(<tf.Tensor 'gradients/Mean_grad/floordiv:0' shape=() dtype=int32>,)\n",
      "(<tf.Tensor 'gradients/Mean_grad/Cast:0' shape=() dtype=float32>,)\n",
      "(<tf.Tensor 'gradients/Mean_grad/truediv:0' shape=(?,) dtype=float32>,)\n",
      "(<tf.Tensor 'gradients/Reshape_2_grad/Shape:0' shape=(1,) dtype=int32>,)\n",
      "(<tf.Tensor 'gradients/Reshape_2_grad/Reshape:0' shape=(?,) dtype=float32>,)\n",
      "(<tf.Tensor 'gradients/zeros_like:0' shape=(?, ?) dtype=float32>,)\n",
      "(<tf.Tensor 'gradients/SoftmaxCrossEntropyWithLogits_grad/ExpandDims/dim:0' shape=() dtype=int32>,)\n",
      "(<tf.Tensor 'gradients/SoftmaxCrossEntropyWithLogits_grad/ExpandDims:0' shape=(?, 1) dtype=float32>,)\n",
      "(<tf.Tensor 'gradients/SoftmaxCrossEntropyWithLogits_grad/mul:0' shape=(?, ?) dtype=float32>,)\n",
      "(<tf.Tensor 'gradients/Reshape_grad/Shape:0' shape=(2,) dtype=int32>,)\n",
      "(<tf.Tensor 'gradients/Reshape_grad/Reshape:0' shape=(?, 43) dtype=float32>,)\n",
      "(<tf.Tensor 'gradients/add_5_grad/Shape:0' shape=(2,) dtype=int32>,)\n",
      "(<tf.Tensor 'gradients/add_5_grad/Shape_1:0' shape=(1,) dtype=int32>,)\n",
      "(<tf.Tensor 'gradients/add_5_grad/BroadcastGradientArgs:0' shape=(?,) dtype=int32>, <tf.Tensor 'gradients/add_5_grad/BroadcastGradientArgs:1' shape=(?,) dtype=int32>)\n",
      "(<tf.Tensor 'gradients/add_5_grad/Sum:0' shape=<unknown> dtype=float32>,)\n",
      "(<tf.Tensor 'gradients/add_5_grad/Reshape:0' shape=(?, 43) dtype=float32>,)\n",
      "(<tf.Tensor 'gradients/add_5_grad/Sum_1:0' shape=<unknown> dtype=float32>,)\n",
      "(<tf.Tensor 'gradients/add_5_grad/Reshape_1:0' shape=(43,) dtype=float32>,)\n",
      "()\n",
      "(<tf.Tensor 'gradients/add_5_grad/tuple/control_dependency:0' shape=(?, 43) dtype=float32>,)\n",
      "(<tf.Tensor 'gradients/add_5_grad/tuple/control_dependency_1:0' shape=(43,) dtype=float32>,)\n",
      "(<tf.Tensor 'gradients/MatMul_1_grad/MatMul:0' shape=(?, 1024) dtype=float32>,)\n",
      "(<tf.Tensor 'gradients/MatMul_1_grad/MatMul_1:0' shape=(1024, 43) dtype=float32>,)\n",
      "()\n",
      "(<tf.Tensor 'gradients/MatMul_1_grad/tuple/control_dependency:0' shape=(?, 1024) dtype=float32>,)\n",
      "(<tf.Tensor 'gradients/MatMul_1_grad/tuple/control_dependency_1:0' shape=(1024, 43) dtype=float32>,)\n",
      "(<tf.Tensor 'gradients/Relu_4_grad/ReluGrad:0' shape=(?, 1024) dtype=float32>,)\n",
      "(<tf.Tensor 'gradients/add_4_grad/Shape:0' shape=(2,) dtype=int32>,)\n",
      "(<tf.Tensor 'gradients/add_4_grad/Shape_1:0' shape=(1,) dtype=int32>,)\n",
      "(<tf.Tensor 'gradients/add_4_grad/BroadcastGradientArgs:0' shape=(?,) dtype=int32>, <tf.Tensor 'gradients/add_4_grad/BroadcastGradientArgs:1' shape=(?,) dtype=int32>)\n",
      "(<tf.Tensor 'gradients/add_4_grad/Sum:0' shape=<unknown> dtype=float32>,)\n",
      "(<tf.Tensor 'gradients/add_4_grad/Reshape:0' shape=(?, 1024) dtype=float32>,)\n",
      "(<tf.Tensor 'gradients/add_4_grad/Sum_1:0' shape=<unknown> dtype=float32>,)\n",
      "(<tf.Tensor 'gradients/add_4_grad/Reshape_1:0' shape=(1024,) dtype=float32>,)\n",
      "()\n",
      "(<tf.Tensor 'gradients/add_4_grad/tuple/control_dependency:0' shape=(?, 1024) dtype=float32>,)\n",
      "(<tf.Tensor 'gradients/add_4_grad/tuple/control_dependency_1:0' shape=(1024,) dtype=float32>,)\n",
      "(<tf.Tensor 'gradients/MatMul_grad/MatMul:0' shape=(?, 4096) dtype=float32>,)\n",
      "(<tf.Tensor 'gradients/MatMul_grad/MatMul_1:0' shape=(4096, 1024) dtype=float32>,)\n",
      "()\n",
      "(<tf.Tensor 'gradients/MatMul_grad/tuple/control_dependency:0' shape=(?, 4096) dtype=float32>,)\n",
      "(<tf.Tensor 'gradients/MatMul_grad/tuple/control_dependency_1:0' shape=(4096, 1024) dtype=float32>,)\n",
      "(<tf.Tensor 'gradients/Flatten/Reshape_grad/Shape:0' shape=(4,) dtype=int32>,)\n",
      "(<tf.Tensor 'gradients/Flatten/Reshape_grad/Reshape:0' shape=(?, 8, 8, 64) dtype=float32>,)\n",
      "(<tf.Tensor 'gradients/Relu_3_grad/ReluGrad:0' shape=(?, 8, 8, 64) dtype=float32>,)\n",
      "(<tf.Tensor 'gradients/add_3_grad/Shape:0' shape=(4,) dtype=int32>,)\n",
      "(<tf.Tensor 'gradients/add_3_grad/Shape_1:0' shape=(1,) dtype=int32>,)\n",
      "(<tf.Tensor 'gradients/add_3_grad/BroadcastGradientArgs:0' shape=(?,) dtype=int32>, <tf.Tensor 'gradients/add_3_grad/BroadcastGradientArgs:1' shape=(?,) dtype=int32>)\n",
      "(<tf.Tensor 'gradients/add_3_grad/Sum:0' shape=<unknown> dtype=float32>,)\n",
      "(<tf.Tensor 'gradients/add_3_grad/Reshape:0' shape=(?, 8, 8, 64) dtype=float32>,)\n",
      "(<tf.Tensor 'gradients/add_3_grad/Sum_1:0' shape=<unknown> dtype=float32>,)\n",
      "(<tf.Tensor 'gradients/add_3_grad/Reshape_1:0' shape=(64,) dtype=float32>,)\n",
      "()\n",
      "(<tf.Tensor 'gradients/add_3_grad/tuple/control_dependency:0' shape=(?, 8, 8, 64) dtype=float32>,)\n",
      "(<tf.Tensor 'gradients/add_3_grad/tuple/control_dependency_1:0' shape=(64,) dtype=float32>,)\n",
      "(<tf.Tensor 'gradients/Conv2D_3_grad/Shape:0' shape=(4,) dtype=int32>,)\n",
      "(<tf.Tensor 'gradients/Conv2D_3_grad/Conv2DBackpropInput:0' shape=(?, ?, ?, ?) dtype=float32>,)\n",
      "(<tf.Tensor 'gradients/Conv2D_3_grad/Shape_1:0' shape=(4,) dtype=int32>,)\n",
      "(<tf.Tensor 'gradients/Conv2D_3_grad/Conv2DBackpropFilter:0' shape=(1, 1, 128, 64) dtype=float32>,)\n",
      "()\n",
      "(<tf.Tensor 'gradients/Conv2D_3_grad/tuple/control_dependency:0' shape=(?, 8, 8, 128) dtype=float32>,)\n",
      "(<tf.Tensor 'gradients/Conv2D_3_grad/tuple/control_dependency_1:0' shape=(1, 1, 128, 64) dtype=float32>,)\n",
      "(<tf.Tensor 'gradients/Relu_2_grad/ReluGrad:0' shape=(?, 8, 8, 128) dtype=float32>,)\n",
      "(<tf.Tensor 'gradients/add_2_grad/Shape:0' shape=(4,) dtype=int32>,)\n",
      "(<tf.Tensor 'gradients/add_2_grad/Shape_1:0' shape=(1,) dtype=int32>,)\n",
      "(<tf.Tensor 'gradients/add_2_grad/BroadcastGradientArgs:0' shape=(?,) dtype=int32>, <tf.Tensor 'gradients/add_2_grad/BroadcastGradientArgs:1' shape=(?,) dtype=int32>)\n",
      "(<tf.Tensor 'gradients/add_2_grad/Sum:0' shape=<unknown> dtype=float32>,)\n",
      "(<tf.Tensor 'gradients/add_2_grad/Reshape:0' shape=(?, 8, 8, 128) dtype=float32>,)\n",
      "(<tf.Tensor 'gradients/add_2_grad/Sum_1:0' shape=<unknown> dtype=float32>,)\n",
      "(<tf.Tensor 'gradients/add_2_grad/Reshape_1:0' shape=(128,) dtype=float32>,)\n",
      "()\n",
      "(<tf.Tensor 'gradients/add_2_grad/tuple/control_dependency:0' shape=(?, 8, 8, 128) dtype=float32>,)\n",
      "(<tf.Tensor 'gradients/add_2_grad/tuple/control_dependency_1:0' shape=(128,) dtype=float32>,)\n",
      "(<tf.Tensor 'gradients/Conv2D_2_grad/Shape:0' shape=(4,) dtype=int32>,)\n",
      "(<tf.Tensor 'gradients/Conv2D_2_grad/Conv2DBackpropInput:0' shape=(?, ?, ?, ?) dtype=float32>,)\n",
      "(<tf.Tensor 'gradients/Conv2D_2_grad/Shape_1:0' shape=(4,) dtype=int32>,)\n",
      "(<tf.Tensor 'gradients/Conv2D_2_grad/Conv2DBackpropFilter:0' shape=(3, 3, 64, 128) dtype=float32>,)\n",
      "()\n",
      "(<tf.Tensor 'gradients/Conv2D_2_grad/tuple/control_dependency:0' shape=(?, 8, 8, 64) dtype=float32>,)\n",
      "(<tf.Tensor 'gradients/Conv2D_2_grad/tuple/control_dependency_1:0' shape=(3, 3, 64, 128) dtype=float32>,)\n",
      "(<tf.Tensor 'gradients/MaxPool_1_grad/MaxPoolGrad:0' shape=(?, 16, 16, 64) dtype=float32>,)\n",
      "(<tf.Tensor 'gradients/Relu_1_grad/ReluGrad:0' shape=(?, 16, 16, 64) dtype=float32>,)\n",
      "(<tf.Tensor 'gradients/add_1_grad/Shape:0' shape=(4,) dtype=int32>,)\n",
      "(<tf.Tensor 'gradients/add_1_grad/Shape_1:0' shape=(1,) dtype=int32>,)\n",
      "(<tf.Tensor 'gradients/add_1_grad/BroadcastGradientArgs:0' shape=(?,) dtype=int32>, <tf.Tensor 'gradients/add_1_grad/BroadcastGradientArgs:1' shape=(?,) dtype=int32>)\n",
      "(<tf.Tensor 'gradients/add_1_grad/Sum:0' shape=<unknown> dtype=float32>,)\n",
      "(<tf.Tensor 'gradients/add_1_grad/Reshape:0' shape=(?, 16, 16, 64) dtype=float32>,)\n",
      "(<tf.Tensor 'gradients/add_1_grad/Sum_1:0' shape=<unknown> dtype=float32>,)\n",
      "(<tf.Tensor 'gradients/add_1_grad/Reshape_1:0' shape=(64,) dtype=float32>,)\n",
      "()\n",
      "(<tf.Tensor 'gradients/add_1_grad/tuple/control_dependency:0' shape=(?, 16, 16, 64) dtype=float32>,)\n",
      "(<tf.Tensor 'gradients/add_1_grad/tuple/control_dependency_1:0' shape=(64,) dtype=float32>,)\n",
      "(<tf.Tensor 'gradients/Conv2D_1_grad/Shape:0' shape=(4,) dtype=int32>,)\n",
      "(<tf.Tensor 'gradients/Conv2D_1_grad/Conv2DBackpropInput:0' shape=(?, ?, ?, ?) dtype=float32>,)\n",
      "(<tf.Tensor 'gradients/Conv2D_1_grad/Shape_1:0' shape=(4,) dtype=int32>,)\n",
      "(<tf.Tensor 'gradients/Conv2D_1_grad/Conv2DBackpropFilter:0' shape=(3, 3, 32, 64) dtype=float32>,)\n",
      "()\n",
      "(<tf.Tensor 'gradients/Conv2D_1_grad/tuple/control_dependency:0' shape=(?, 16, 16, 32) dtype=float32>,)\n",
      "(<tf.Tensor 'gradients/Conv2D_1_grad/tuple/control_dependency_1:0' shape=(3, 3, 32, 64) dtype=float32>,)\n",
      "(<tf.Tensor 'gradients/MaxPool_grad/MaxPoolGrad:0' shape=(?, 32, 32, 32) dtype=float32>,)\n",
      "(<tf.Tensor 'gradients/Relu_grad/ReluGrad:0' shape=(?, 32, 32, 32) dtype=float32>,)\n",
      "(<tf.Tensor 'gradients/add_grad/Shape:0' shape=(4,) dtype=int32>,)\n",
      "(<tf.Tensor 'gradients/add_grad/Shape_1:0' shape=(1,) dtype=int32>,)\n",
      "(<tf.Tensor 'gradients/add_grad/BroadcastGradientArgs:0' shape=(?,) dtype=int32>, <tf.Tensor 'gradients/add_grad/BroadcastGradientArgs:1' shape=(?,) dtype=int32>)\n",
      "(<tf.Tensor 'gradients/add_grad/Sum:0' shape=<unknown> dtype=float32>,)\n",
      "(<tf.Tensor 'gradients/add_grad/Reshape:0' shape=(?, 32, 32, 32) dtype=float32>,)\n",
      "(<tf.Tensor 'gradients/add_grad/Sum_1:0' shape=<unknown> dtype=float32>,)\n",
      "(<tf.Tensor 'gradients/add_grad/Reshape_1:0' shape=(32,) dtype=float32>,)\n",
      "()\n",
      "(<tf.Tensor 'gradients/add_grad/tuple/control_dependency:0' shape=(?, 32, 32, 32) dtype=float32>,)\n",
      "(<tf.Tensor 'gradients/add_grad/tuple/control_dependency_1:0' shape=(32,) dtype=float32>,)\n",
      "(<tf.Tensor 'gradients/Conv2D_grad/Shape:0' shape=(4,) dtype=int32>,)\n",
      "(<tf.Tensor 'gradients/Conv2D_grad/Conv2DBackpropInput:0' shape=(?, ?, ?, ?) dtype=float32>,)\n",
      "(<tf.Tensor 'gradients/Conv2D_grad/Shape_1:0' shape=(4,) dtype=int32>,)\n",
      "(<tf.Tensor 'gradients/Conv2D_grad/Conv2DBackpropFilter:0' shape=(3, 3, 3, 32) dtype=float32>,)\n",
      "()\n",
      "(<tf.Tensor 'gradients/Conv2D_grad/tuple/control_dependency:0' shape=(?, 32, 32, 3) dtype=float32>,)\n",
      "(<tf.Tensor 'gradients/Conv2D_grad/tuple/control_dependency_1:0' shape=(3, 3, 3, 32) dtype=float32>,)\n",
      "(<tf.Tensor 'beta1_power/initial_value:0' shape=() dtype=float32>,)\n",
      "(<tf.Tensor 'beta1_power:0' shape=() dtype=float32_ref>,)\n",
      "(<tf.Tensor 'beta1_power/Assign:0' shape=() dtype=float32_ref>,)\n",
      "(<tf.Tensor 'beta1_power/read:0' shape=() dtype=float32>,)\n",
      "(<tf.Tensor 'beta2_power/initial_value:0' shape=() dtype=float32>,)\n",
      "(<tf.Tensor 'beta2_power:0' shape=() dtype=float32_ref>,)\n",
      "(<tf.Tensor 'beta2_power/Assign:0' shape=() dtype=float32_ref>,)\n",
      "(<tf.Tensor 'beta2_power/read:0' shape=() dtype=float32>,)\n",
      "(<tf.Tensor 'Variable/Adam/Initializer/zeros:0' shape=(3, 3, 3, 32) dtype=float32>,)\n",
      "(<tf.Tensor 'Variable/Adam:0' shape=(3, 3, 3, 32) dtype=float32_ref>,)\n",
      "(<tf.Tensor 'Variable/Adam/Assign:0' shape=(3, 3, 3, 32) dtype=float32_ref>,)\n",
      "(<tf.Tensor 'Variable/Adam/read:0' shape=(3, 3, 3, 32) dtype=float32>,)\n",
      "(<tf.Tensor 'Variable/Adam_1/Initializer/zeros:0' shape=(3, 3, 3, 32) dtype=float32>,)\n",
      "(<tf.Tensor 'Variable/Adam_1:0' shape=(3, 3, 3, 32) dtype=float32_ref>,)\n",
      "(<tf.Tensor 'Variable/Adam_1/Assign:0' shape=(3, 3, 3, 32) dtype=float32_ref>,)\n",
      "(<tf.Tensor 'Variable/Adam_1/read:0' shape=(3, 3, 3, 32) dtype=float32>,)\n",
      "(<tf.Tensor 'Variable_1/Adam/Initializer/zeros:0' shape=(3, 3, 32, 64) dtype=float32>,)\n",
      "(<tf.Tensor 'Variable_1/Adam:0' shape=(3, 3, 32, 64) dtype=float32_ref>,)\n",
      "(<tf.Tensor 'Variable_1/Adam/Assign:0' shape=(3, 3, 32, 64) dtype=float32_ref>,)\n",
      "(<tf.Tensor 'Variable_1/Adam/read:0' shape=(3, 3, 32, 64) dtype=float32>,)\n",
      "(<tf.Tensor 'Variable_1/Adam_1/Initializer/zeros:0' shape=(3, 3, 32, 64) dtype=float32>,)\n",
      "(<tf.Tensor 'Variable_1/Adam_1:0' shape=(3, 3, 32, 64) dtype=float32_ref>,)\n",
      "(<tf.Tensor 'Variable_1/Adam_1/Assign:0' shape=(3, 3, 32, 64) dtype=float32_ref>,)\n",
      "(<tf.Tensor 'Variable_1/Adam_1/read:0' shape=(3, 3, 32, 64) dtype=float32>,)\n",
      "(<tf.Tensor 'Variable_2/Adam/Initializer/zeros:0' shape=(3, 3, 64, 128) dtype=float32>,)\n",
      "(<tf.Tensor 'Variable_2/Adam:0' shape=(3, 3, 64, 128) dtype=float32_ref>,)\n",
      "(<tf.Tensor 'Variable_2/Adam/Assign:0' shape=(3, 3, 64, 128) dtype=float32_ref>,)\n",
      "(<tf.Tensor 'Variable_2/Adam/read:0' shape=(3, 3, 64, 128) dtype=float32>,)\n",
      "(<tf.Tensor 'Variable_2/Adam_1/Initializer/zeros:0' shape=(3, 3, 64, 128) dtype=float32>,)\n",
      "(<tf.Tensor 'Variable_2/Adam_1:0' shape=(3, 3, 64, 128) dtype=float32_ref>,)\n",
      "(<tf.Tensor 'Variable_2/Adam_1/Assign:0' shape=(3, 3, 64, 128) dtype=float32_ref>,)\n",
      "(<tf.Tensor 'Variable_2/Adam_1/read:0' shape=(3, 3, 64, 128) dtype=float32>,)\n",
      "(<tf.Tensor 'Variable_3/Adam/Initializer/zeros:0' shape=(1, 1, 128, 64) dtype=float32>,)\n",
      "(<tf.Tensor 'Variable_3/Adam:0' shape=(1, 1, 128, 64) dtype=float32_ref>,)\n",
      "(<tf.Tensor 'Variable_3/Adam/Assign:0' shape=(1, 1, 128, 64) dtype=float32_ref>,)\n",
      "(<tf.Tensor 'Variable_3/Adam/read:0' shape=(1, 1, 128, 64) dtype=float32>,)\n",
      "(<tf.Tensor 'Variable_3/Adam_1/Initializer/zeros:0' shape=(1, 1, 128, 64) dtype=float32>,)\n",
      "(<tf.Tensor 'Variable_3/Adam_1:0' shape=(1, 1, 128, 64) dtype=float32_ref>,)\n",
      "(<tf.Tensor 'Variable_3/Adam_1/Assign:0' shape=(1, 1, 128, 64) dtype=float32_ref>,)\n",
      "(<tf.Tensor 'Variable_3/Adam_1/read:0' shape=(1, 1, 128, 64) dtype=float32>,)\n",
      "(<tf.Tensor 'Variable_4/Adam/Initializer/zeros:0' shape=(4096, 1024) dtype=float32>,)\n",
      "(<tf.Tensor 'Variable_4/Adam:0' shape=(4096, 1024) dtype=float32_ref>,)\n",
      "(<tf.Tensor 'Variable_4/Adam/Assign:0' shape=(4096, 1024) dtype=float32_ref>,)\n",
      "(<tf.Tensor 'Variable_4/Adam/read:0' shape=(4096, 1024) dtype=float32>,)\n",
      "(<tf.Tensor 'Variable_4/Adam_1/Initializer/zeros:0' shape=(4096, 1024) dtype=float32>,)\n",
      "(<tf.Tensor 'Variable_4/Adam_1:0' shape=(4096, 1024) dtype=float32_ref>,)\n",
      "(<tf.Tensor 'Variable_4/Adam_1/Assign:0' shape=(4096, 1024) dtype=float32_ref>,)\n",
      "(<tf.Tensor 'Variable_4/Adam_1/read:0' shape=(4096, 1024) dtype=float32>,)\n",
      "(<tf.Tensor 'Variable_5/Adam/Initializer/zeros:0' shape=(1024, 43) dtype=float32>,)\n",
      "(<tf.Tensor 'Variable_5/Adam:0' shape=(1024, 43) dtype=float32_ref>,)\n",
      "(<tf.Tensor 'Variable_5/Adam/Assign:0' shape=(1024, 43) dtype=float32_ref>,)\n",
      "(<tf.Tensor 'Variable_5/Adam/read:0' shape=(1024, 43) dtype=float32>,)\n",
      "(<tf.Tensor 'Variable_5/Adam_1/Initializer/zeros:0' shape=(1024, 43) dtype=float32>,)\n",
      "(<tf.Tensor 'Variable_5/Adam_1:0' shape=(1024, 43) dtype=float32_ref>,)\n",
      "(<tf.Tensor 'Variable_5/Adam_1/Assign:0' shape=(1024, 43) dtype=float32_ref>,)\n",
      "(<tf.Tensor 'Variable_5/Adam_1/read:0' shape=(1024, 43) dtype=float32>,)\n",
      "(<tf.Tensor 'Variable_6/Adam/Initializer/zeros:0' shape=(32,) dtype=float32>,)\n",
      "(<tf.Tensor 'Variable_6/Adam:0' shape=(32,) dtype=float32_ref>,)\n",
      "(<tf.Tensor 'Variable_6/Adam/Assign:0' shape=(32,) dtype=float32_ref>,)\n",
      "(<tf.Tensor 'Variable_6/Adam/read:0' shape=(32,) dtype=float32>,)\n",
      "(<tf.Tensor 'Variable_6/Adam_1/Initializer/zeros:0' shape=(32,) dtype=float32>,)\n",
      "(<tf.Tensor 'Variable_6/Adam_1:0' shape=(32,) dtype=float32_ref>,)\n",
      "(<tf.Tensor 'Variable_6/Adam_1/Assign:0' shape=(32,) dtype=float32_ref>,)\n",
      "(<tf.Tensor 'Variable_6/Adam_1/read:0' shape=(32,) dtype=float32>,)\n",
      "(<tf.Tensor 'Variable_7/Adam/Initializer/zeros:0' shape=(64,) dtype=float32>,)\n",
      "(<tf.Tensor 'Variable_7/Adam:0' shape=(64,) dtype=float32_ref>,)\n",
      "(<tf.Tensor 'Variable_7/Adam/Assign:0' shape=(64,) dtype=float32_ref>,)\n",
      "(<tf.Tensor 'Variable_7/Adam/read:0' shape=(64,) dtype=float32>,)\n",
      "(<tf.Tensor 'Variable_7/Adam_1/Initializer/zeros:0' shape=(64,) dtype=float32>,)\n",
      "(<tf.Tensor 'Variable_7/Adam_1:0' shape=(64,) dtype=float32_ref>,)\n",
      "(<tf.Tensor 'Variable_7/Adam_1/Assign:0' shape=(64,) dtype=float32_ref>,)\n",
      "(<tf.Tensor 'Variable_7/Adam_1/read:0' shape=(64,) dtype=float32>,)\n",
      "(<tf.Tensor 'Variable_8/Adam/Initializer/zeros:0' shape=(128,) dtype=float32>,)\n",
      "(<tf.Tensor 'Variable_8/Adam:0' shape=(128,) dtype=float32_ref>,)\n",
      "(<tf.Tensor 'Variable_8/Adam/Assign:0' shape=(128,) dtype=float32_ref>,)\n",
      "(<tf.Tensor 'Variable_8/Adam/read:0' shape=(128,) dtype=float32>,)\n",
      "(<tf.Tensor 'Variable_8/Adam_1/Initializer/zeros:0' shape=(128,) dtype=float32>,)\n",
      "(<tf.Tensor 'Variable_8/Adam_1:0' shape=(128,) dtype=float32_ref>,)\n",
      "(<tf.Tensor 'Variable_8/Adam_1/Assign:0' shape=(128,) dtype=float32_ref>,)\n",
      "(<tf.Tensor 'Variable_8/Adam_1/read:0' shape=(128,) dtype=float32>,)\n",
      "(<tf.Tensor 'Variable_9/Adam/Initializer/zeros:0' shape=(64,) dtype=float32>,)\n",
      "(<tf.Tensor 'Variable_9/Adam:0' shape=(64,) dtype=float32_ref>,)\n",
      "(<tf.Tensor 'Variable_9/Adam/Assign:0' shape=(64,) dtype=float32_ref>,)\n",
      "(<tf.Tensor 'Variable_9/Adam/read:0' shape=(64,) dtype=float32>,)\n",
      "(<tf.Tensor 'Variable_9/Adam_1/Initializer/zeros:0' shape=(64,) dtype=float32>,)\n",
      "(<tf.Tensor 'Variable_9/Adam_1:0' shape=(64,) dtype=float32_ref>,)\n",
      "(<tf.Tensor 'Variable_9/Adam_1/Assign:0' shape=(64,) dtype=float32_ref>,)\n",
      "(<tf.Tensor 'Variable_9/Adam_1/read:0' shape=(64,) dtype=float32>,)\n",
      "(<tf.Tensor 'Variable_10/Adam/Initializer/zeros:0' shape=(1024,) dtype=float32>,)\n",
      "(<tf.Tensor 'Variable_10/Adam:0' shape=(1024,) dtype=float32_ref>,)\n",
      "(<tf.Tensor 'Variable_10/Adam/Assign:0' shape=(1024,) dtype=float32_ref>,)\n",
      "(<tf.Tensor 'Variable_10/Adam/read:0' shape=(1024,) dtype=float32>,)\n",
      "(<tf.Tensor 'Variable_10/Adam_1/Initializer/zeros:0' shape=(1024,) dtype=float32>,)\n",
      "(<tf.Tensor 'Variable_10/Adam_1:0' shape=(1024,) dtype=float32_ref>,)\n",
      "(<tf.Tensor 'Variable_10/Adam_1/Assign:0' shape=(1024,) dtype=float32_ref>,)\n",
      "(<tf.Tensor 'Variable_10/Adam_1/read:0' shape=(1024,) dtype=float32>,)\n",
      "(<tf.Tensor 'Variable_11/Adam/Initializer/zeros:0' shape=(43,) dtype=float32>,)\n",
      "(<tf.Tensor 'Variable_11/Adam:0' shape=(43,) dtype=float32_ref>,)\n",
      "(<tf.Tensor 'Variable_11/Adam/Assign:0' shape=(43,) dtype=float32_ref>,)\n",
      "(<tf.Tensor 'Variable_11/Adam/read:0' shape=(43,) dtype=float32>,)\n",
      "(<tf.Tensor 'Variable_11/Adam_1/Initializer/zeros:0' shape=(43,) dtype=float32>,)\n",
      "(<tf.Tensor 'Variable_11/Adam_1:0' shape=(43,) dtype=float32_ref>,)\n",
      "(<tf.Tensor 'Variable_11/Adam_1/Assign:0' shape=(43,) dtype=float32_ref>,)\n",
      "(<tf.Tensor 'Variable_11/Adam_1/read:0' shape=(43,) dtype=float32>,)\n",
      "(<tf.Tensor 'Adam/learning_rate:0' shape=() dtype=float32>,)\n",
      "(<tf.Tensor 'Adam/beta1:0' shape=() dtype=float32>,)\n",
      "(<tf.Tensor 'Adam/beta2:0' shape=() dtype=float32>,)\n",
      "(<tf.Tensor 'Adam/epsilon:0' shape=() dtype=float32>,)\n",
      "(<tf.Tensor 'Adam/update_Variable/ApplyAdam:0' shape=(3, 3, 3, 32) dtype=float32_ref>,)\n",
      "(<tf.Tensor 'Adam/update_Variable_1/ApplyAdam:0' shape=(3, 3, 32, 64) dtype=float32_ref>,)\n",
      "(<tf.Tensor 'Adam/update_Variable_2/ApplyAdam:0' shape=(3, 3, 64, 128) dtype=float32_ref>,)\n",
      "(<tf.Tensor 'Adam/update_Variable_3/ApplyAdam:0' shape=(1, 1, 128, 64) dtype=float32_ref>,)\n",
      "(<tf.Tensor 'Adam/update_Variable_4/ApplyAdam:0' shape=(4096, 1024) dtype=float32_ref>,)\n",
      "(<tf.Tensor 'Adam/update_Variable_5/ApplyAdam:0' shape=(1024, 43) dtype=float32_ref>,)\n",
      "(<tf.Tensor 'Adam/update_Variable_6/ApplyAdam:0' shape=(32,) dtype=float32_ref>,)\n",
      "(<tf.Tensor 'Adam/update_Variable_7/ApplyAdam:0' shape=(64,) dtype=float32_ref>,)\n",
      "(<tf.Tensor 'Adam/update_Variable_8/ApplyAdam:0' shape=(128,) dtype=float32_ref>,)\n",
      "(<tf.Tensor 'Adam/update_Variable_9/ApplyAdam:0' shape=(64,) dtype=float32_ref>,)\n",
      "(<tf.Tensor 'Adam/update_Variable_10/ApplyAdam:0' shape=(1024,) dtype=float32_ref>,)\n",
      "(<tf.Tensor 'Adam/update_Variable_11/ApplyAdam:0' shape=(43,) dtype=float32_ref>,)\n",
      "(<tf.Tensor 'Adam/mul:0' shape=() dtype=float32>,)\n",
      "(<tf.Tensor 'Adam/Assign:0' shape=() dtype=float32_ref>,)\n",
      "(<tf.Tensor 'Adam/mul_1:0' shape=() dtype=float32>,)\n",
      "(<tf.Tensor 'Adam/Assign_1:0' shape=() dtype=float32_ref>,)\n",
      "()\n",
      "(<tf.Tensor 'ArgMax/dimension:0' shape=() dtype=int32>,)\n",
      "(<tf.Tensor 'ArgMax:0' shape=(?,) dtype=int64>,)\n",
      "(<tf.Tensor 'ArgMax_1/dimension:0' shape=() dtype=int32>,)\n",
      "(<tf.Tensor 'ArgMax_1:0' shape=<unknown> dtype=int64>,)\n",
      "(<tf.Tensor 'Equal:0' shape=<unknown> dtype=bool>,)\n",
      "(<tf.Tensor 'Cast_1:0' shape=<unknown> dtype=float32>,)\n",
      "(<tf.Tensor 'Rank_3:0' shape=() dtype=int32>,)\n",
      "(<tf.Tensor 'range/start:0' shape=() dtype=int32>,)\n",
      "(<tf.Tensor 'range/delta:0' shape=() dtype=int32>,)\n",
      "(<tf.Tensor 'range:0' shape=(?,) dtype=int32>,)\n",
      "(<tf.Tensor 'Mean_1:0' shape=<unknown> dtype=float32>,)\n",
      "(<tf.Tensor 'save/Const:0' shape=() dtype=string>,)\n",
      "(<tf.Tensor 'save/SaveV2/tensor_names:0' shape=(38,) dtype=string>,)\n",
      "(<tf.Tensor 'save/SaveV2/shape_and_slices:0' shape=(38,) dtype=string>,)\n",
      "()\n",
      "(<tf.Tensor 'save/control_dependency:0' shape=() dtype=string>,)\n",
      "(<tf.Tensor 'save/RestoreV2/tensor_names:0' shape=(1,) dtype=string>,)\n",
      "(<tf.Tensor 'save/RestoreV2/shape_and_slices:0' shape=(1,) dtype=string>,)\n",
      "(<tf.Tensor 'save/RestoreV2:0' shape=<unknown> dtype=float32>,)\n",
      "(<tf.Tensor 'save/Assign:0' shape=(3, 3, 3, 32) dtype=float32_ref>,)\n",
      "(<tf.Tensor 'save/RestoreV2_1/tensor_names:0' shape=(1,) dtype=string>,)\n",
      "(<tf.Tensor 'save/RestoreV2_1/shape_and_slices:0' shape=(1,) dtype=string>,)\n",
      "(<tf.Tensor 'save/RestoreV2_1:0' shape=<unknown> dtype=float32>,)\n",
      "(<tf.Tensor 'save/Assign_1:0' shape=(3, 3, 3, 32) dtype=float32_ref>,)\n",
      "(<tf.Tensor 'save/RestoreV2_2/tensor_names:0' shape=(1,) dtype=string>,)\n",
      "(<tf.Tensor 'save/RestoreV2_2/shape_and_slices:0' shape=(1,) dtype=string>,)\n",
      "(<tf.Tensor 'save/RestoreV2_2:0' shape=<unknown> dtype=float32>,)\n",
      "(<tf.Tensor 'save/Assign_2:0' shape=(3, 3, 3, 32) dtype=float32_ref>,)\n",
      "(<tf.Tensor 'save/RestoreV2_3/tensor_names:0' shape=(1,) dtype=string>,)\n",
      "(<tf.Tensor 'save/RestoreV2_3/shape_and_slices:0' shape=(1,) dtype=string>,)\n",
      "(<tf.Tensor 'save/RestoreV2_3:0' shape=<unknown> dtype=float32>,)\n",
      "(<tf.Tensor 'save/Assign_3:0' shape=(3, 3, 32, 64) dtype=float32_ref>,)\n",
      "(<tf.Tensor 'save/RestoreV2_4/tensor_names:0' shape=(1,) dtype=string>,)\n",
      "(<tf.Tensor 'save/RestoreV2_4/shape_and_slices:0' shape=(1,) dtype=string>,)\n",
      "(<tf.Tensor 'save/RestoreV2_4:0' shape=<unknown> dtype=float32>,)\n",
      "(<tf.Tensor 'save/Assign_4:0' shape=(3, 3, 32, 64) dtype=float32_ref>,)\n",
      "(<tf.Tensor 'save/RestoreV2_5/tensor_names:0' shape=(1,) dtype=string>,)\n",
      "(<tf.Tensor 'save/RestoreV2_5/shape_and_slices:0' shape=(1,) dtype=string>,)\n",
      "(<tf.Tensor 'save/RestoreV2_5:0' shape=<unknown> dtype=float32>,)\n",
      "(<tf.Tensor 'save/Assign_5:0' shape=(3, 3, 32, 64) dtype=float32_ref>,)\n",
      "(<tf.Tensor 'save/RestoreV2_6/tensor_names:0' shape=(1,) dtype=string>,)\n",
      "(<tf.Tensor 'save/RestoreV2_6/shape_and_slices:0' shape=(1,) dtype=string>,)\n",
      "(<tf.Tensor 'save/RestoreV2_6:0' shape=<unknown> dtype=float32>,)\n",
      "(<tf.Tensor 'save/Assign_6:0' shape=(1024,) dtype=float32_ref>,)\n",
      "(<tf.Tensor 'save/RestoreV2_7/tensor_names:0' shape=(1,) dtype=string>,)\n",
      "(<tf.Tensor 'save/RestoreV2_7/shape_and_slices:0' shape=(1,) dtype=string>,)\n",
      "(<tf.Tensor 'save/RestoreV2_7:0' shape=<unknown> dtype=float32>,)\n",
      "(<tf.Tensor 'save/Assign_7:0' shape=(1024,) dtype=float32_ref>,)\n",
      "(<tf.Tensor 'save/RestoreV2_8/tensor_names:0' shape=(1,) dtype=string>,)\n",
      "(<tf.Tensor 'save/RestoreV2_8/shape_and_slices:0' shape=(1,) dtype=string>,)\n",
      "(<tf.Tensor 'save/RestoreV2_8:0' shape=<unknown> dtype=float32>,)\n",
      "(<tf.Tensor 'save/Assign_8:0' shape=(1024,) dtype=float32_ref>,)\n",
      "(<tf.Tensor 'save/RestoreV2_9/tensor_names:0' shape=(1,) dtype=string>,)\n",
      "(<tf.Tensor 'save/RestoreV2_9/shape_and_slices:0' shape=(1,) dtype=string>,)\n",
      "(<tf.Tensor 'save/RestoreV2_9:0' shape=<unknown> dtype=float32>,)\n",
      "(<tf.Tensor 'save/Assign_9:0' shape=(43,) dtype=float32_ref>,)\n",
      "(<tf.Tensor 'save/RestoreV2_10/tensor_names:0' shape=(1,) dtype=string>,)\n",
      "(<tf.Tensor 'save/RestoreV2_10/shape_and_slices:0' shape=(1,) dtype=string>,)\n",
      "(<tf.Tensor 'save/RestoreV2_10:0' shape=<unknown> dtype=float32>,)\n",
      "(<tf.Tensor 'save/Assign_10:0' shape=(43,) dtype=float32_ref>,)\n",
      "(<tf.Tensor 'save/RestoreV2_11/tensor_names:0' shape=(1,) dtype=string>,)\n",
      "(<tf.Tensor 'save/RestoreV2_11/shape_and_slices:0' shape=(1,) dtype=string>,)\n",
      "(<tf.Tensor 'save/RestoreV2_11:0' shape=<unknown> dtype=float32>,)\n",
      "(<tf.Tensor 'save/Assign_11:0' shape=(43,) dtype=float32_ref>,)\n",
      "(<tf.Tensor 'save/RestoreV2_12/tensor_names:0' shape=(1,) dtype=string>,)\n",
      "(<tf.Tensor 'save/RestoreV2_12/shape_and_slices:0' shape=(1,) dtype=string>,)\n",
      "(<tf.Tensor 'save/RestoreV2_12:0' shape=<unknown> dtype=float32>,)\n",
      "(<tf.Tensor 'save/Assign_12:0' shape=(3, 3, 64, 128) dtype=float32_ref>,)\n",
      "(<tf.Tensor 'save/RestoreV2_13/tensor_names:0' shape=(1,) dtype=string>,)\n",
      "(<tf.Tensor 'save/RestoreV2_13/shape_and_slices:0' shape=(1,) dtype=string>,)\n",
      "(<tf.Tensor 'save/RestoreV2_13:0' shape=<unknown> dtype=float32>,)\n",
      "(<tf.Tensor 'save/Assign_13:0' shape=(3, 3, 64, 128) dtype=float32_ref>,)\n",
      "(<tf.Tensor 'save/RestoreV2_14/tensor_names:0' shape=(1,) dtype=string>,)\n",
      "(<tf.Tensor 'save/RestoreV2_14/shape_and_slices:0' shape=(1,) dtype=string>,)\n",
      "(<tf.Tensor 'save/RestoreV2_14:0' shape=<unknown> dtype=float32>,)\n",
      "(<tf.Tensor 'save/Assign_14:0' shape=(3, 3, 64, 128) dtype=float32_ref>,)\n",
      "(<tf.Tensor 'save/RestoreV2_15/tensor_names:0' shape=(1,) dtype=string>,)\n",
      "(<tf.Tensor 'save/RestoreV2_15/shape_and_slices:0' shape=(1,) dtype=string>,)\n",
      "(<tf.Tensor 'save/RestoreV2_15:0' shape=<unknown> dtype=float32>,)\n",
      "(<tf.Tensor 'save/Assign_15:0' shape=(1, 1, 128, 64) dtype=float32_ref>,)\n",
      "(<tf.Tensor 'save/RestoreV2_16/tensor_names:0' shape=(1,) dtype=string>,)\n",
      "(<tf.Tensor 'save/RestoreV2_16/shape_and_slices:0' shape=(1,) dtype=string>,)\n",
      "(<tf.Tensor 'save/RestoreV2_16:0' shape=<unknown> dtype=float32>,)\n",
      "(<tf.Tensor 'save/Assign_16:0' shape=(1, 1, 128, 64) dtype=float32_ref>,)\n",
      "(<tf.Tensor 'save/RestoreV2_17/tensor_names:0' shape=(1,) dtype=string>,)\n",
      "(<tf.Tensor 'save/RestoreV2_17/shape_and_slices:0' shape=(1,) dtype=string>,)\n",
      "(<tf.Tensor 'save/RestoreV2_17:0' shape=<unknown> dtype=float32>,)\n",
      "(<tf.Tensor 'save/Assign_17:0' shape=(1, 1, 128, 64) dtype=float32_ref>,)\n",
      "(<tf.Tensor 'save/RestoreV2_18/tensor_names:0' shape=(1,) dtype=string>,)\n",
      "(<tf.Tensor 'save/RestoreV2_18/shape_and_slices:0' shape=(1,) dtype=string>,)\n"
     ]
    },
    {
     "name": "stdout",
     "output_type": "stream",
     "text": [
      "(<tf.Tensor 'save/RestoreV2_18:0' shape=<unknown> dtype=float32>,)\n",
      "(<tf.Tensor 'save/Assign_18:0' shape=(4096, 1024) dtype=float32_ref>,)\n",
      "(<tf.Tensor 'save/RestoreV2_19/tensor_names:0' shape=(1,) dtype=string>,)\n",
      "(<tf.Tensor 'save/RestoreV2_19/shape_and_slices:0' shape=(1,) dtype=string>,)\n",
      "(<tf.Tensor 'save/RestoreV2_19:0' shape=<unknown> dtype=float32>,)\n",
      "(<tf.Tensor 'save/Assign_19:0' shape=(4096, 1024) dtype=float32_ref>,)\n",
      "(<tf.Tensor 'save/RestoreV2_20/tensor_names:0' shape=(1,) dtype=string>,)\n",
      "(<tf.Tensor 'save/RestoreV2_20/shape_and_slices:0' shape=(1,) dtype=string>,)\n",
      "(<tf.Tensor 'save/RestoreV2_20:0' shape=<unknown> dtype=float32>,)\n",
      "(<tf.Tensor 'save/Assign_20:0' shape=(4096, 1024) dtype=float32_ref>,)\n",
      "(<tf.Tensor 'save/RestoreV2_21/tensor_names:0' shape=(1,) dtype=string>,)\n",
      "(<tf.Tensor 'save/RestoreV2_21/shape_and_slices:0' shape=(1,) dtype=string>,)\n",
      "(<tf.Tensor 'save/RestoreV2_21:0' shape=<unknown> dtype=float32>,)\n",
      "(<tf.Tensor 'save/Assign_21:0' shape=(1024, 43) dtype=float32_ref>,)\n",
      "(<tf.Tensor 'save/RestoreV2_22/tensor_names:0' shape=(1,) dtype=string>,)\n",
      "(<tf.Tensor 'save/RestoreV2_22/shape_and_slices:0' shape=(1,) dtype=string>,)\n",
      "(<tf.Tensor 'save/RestoreV2_22:0' shape=<unknown> dtype=float32>,)\n",
      "(<tf.Tensor 'save/Assign_22:0' shape=(1024, 43) dtype=float32_ref>,)\n",
      "(<tf.Tensor 'save/RestoreV2_23/tensor_names:0' shape=(1,) dtype=string>,)\n",
      "(<tf.Tensor 'save/RestoreV2_23/shape_and_slices:0' shape=(1,) dtype=string>,)\n",
      "(<tf.Tensor 'save/RestoreV2_23:0' shape=<unknown> dtype=float32>,)\n",
      "(<tf.Tensor 'save/Assign_23:0' shape=(1024, 43) dtype=float32_ref>,)\n",
      "(<tf.Tensor 'save/RestoreV2_24/tensor_names:0' shape=(1,) dtype=string>,)\n",
      "(<tf.Tensor 'save/RestoreV2_24/shape_and_slices:0' shape=(1,) dtype=string>,)\n",
      "(<tf.Tensor 'save/RestoreV2_24:0' shape=<unknown> dtype=float32>,)\n",
      "(<tf.Tensor 'save/Assign_24:0' shape=(32,) dtype=float32_ref>,)\n",
      "(<tf.Tensor 'save/RestoreV2_25/tensor_names:0' shape=(1,) dtype=string>,)\n",
      "(<tf.Tensor 'save/RestoreV2_25/shape_and_slices:0' shape=(1,) dtype=string>,)\n",
      "(<tf.Tensor 'save/RestoreV2_25:0' shape=<unknown> dtype=float32>,)\n",
      "(<tf.Tensor 'save/Assign_25:0' shape=(32,) dtype=float32_ref>,)\n",
      "(<tf.Tensor 'save/RestoreV2_26/tensor_names:0' shape=(1,) dtype=string>,)\n",
      "(<tf.Tensor 'save/RestoreV2_26/shape_and_slices:0' shape=(1,) dtype=string>,)\n",
      "(<tf.Tensor 'save/RestoreV2_26:0' shape=<unknown> dtype=float32>,)\n",
      "(<tf.Tensor 'save/Assign_26:0' shape=(32,) dtype=float32_ref>,)\n",
      "(<tf.Tensor 'save/RestoreV2_27/tensor_names:0' shape=(1,) dtype=string>,)\n",
      "(<tf.Tensor 'save/RestoreV2_27/shape_and_slices:0' shape=(1,) dtype=string>,)\n",
      "(<tf.Tensor 'save/RestoreV2_27:0' shape=<unknown> dtype=float32>,)\n",
      "(<tf.Tensor 'save/Assign_27:0' shape=(64,) dtype=float32_ref>,)\n",
      "(<tf.Tensor 'save/RestoreV2_28/tensor_names:0' shape=(1,) dtype=string>,)\n",
      "(<tf.Tensor 'save/RestoreV2_28/shape_and_slices:0' shape=(1,) dtype=string>,)\n",
      "(<tf.Tensor 'save/RestoreV2_28:0' shape=<unknown> dtype=float32>,)\n",
      "(<tf.Tensor 'save/Assign_28:0' shape=(64,) dtype=float32_ref>,)\n",
      "(<tf.Tensor 'save/RestoreV2_29/tensor_names:0' shape=(1,) dtype=string>,)\n",
      "(<tf.Tensor 'save/RestoreV2_29/shape_and_slices:0' shape=(1,) dtype=string>,)\n",
      "(<tf.Tensor 'save/RestoreV2_29:0' shape=<unknown> dtype=float32>,)\n",
      "(<tf.Tensor 'save/Assign_29:0' shape=(64,) dtype=float32_ref>,)\n",
      "(<tf.Tensor 'save/RestoreV2_30/tensor_names:0' shape=(1,) dtype=string>,)\n",
      "(<tf.Tensor 'save/RestoreV2_30/shape_and_slices:0' shape=(1,) dtype=string>,)\n",
      "(<tf.Tensor 'save/RestoreV2_30:0' shape=<unknown> dtype=float32>,)\n",
      "(<tf.Tensor 'save/Assign_30:0' shape=(128,) dtype=float32_ref>,)\n",
      "(<tf.Tensor 'save/RestoreV2_31/tensor_names:0' shape=(1,) dtype=string>,)\n",
      "(<tf.Tensor 'save/RestoreV2_31/shape_and_slices:0' shape=(1,) dtype=string>,)\n",
      "(<tf.Tensor 'save/RestoreV2_31:0' shape=<unknown> dtype=float32>,)\n",
      "(<tf.Tensor 'save/Assign_31:0' shape=(128,) dtype=float32_ref>,)\n",
      "(<tf.Tensor 'save/RestoreV2_32/tensor_names:0' shape=(1,) dtype=string>,)\n",
      "(<tf.Tensor 'save/RestoreV2_32/shape_and_slices:0' shape=(1,) dtype=string>,)\n",
      "(<tf.Tensor 'save/RestoreV2_32:0' shape=<unknown> dtype=float32>,)\n",
      "(<tf.Tensor 'save/Assign_32:0' shape=(128,) dtype=float32_ref>,)\n",
      "(<tf.Tensor 'save/RestoreV2_33/tensor_names:0' shape=(1,) dtype=string>,)\n",
      "(<tf.Tensor 'save/RestoreV2_33/shape_and_slices:0' shape=(1,) dtype=string>,)\n",
      "(<tf.Tensor 'save/RestoreV2_33:0' shape=<unknown> dtype=float32>,)\n",
      "(<tf.Tensor 'save/Assign_33:0' shape=(64,) dtype=float32_ref>,)\n",
      "(<tf.Tensor 'save/RestoreV2_34/tensor_names:0' shape=(1,) dtype=string>,)\n",
      "(<tf.Tensor 'save/RestoreV2_34/shape_and_slices:0' shape=(1,) dtype=string>,)\n",
      "(<tf.Tensor 'save/RestoreV2_34:0' shape=<unknown> dtype=float32>,)\n",
      "(<tf.Tensor 'save/Assign_34:0' shape=(64,) dtype=float32_ref>,)\n",
      "(<tf.Tensor 'save/RestoreV2_35/tensor_names:0' shape=(1,) dtype=string>,)\n",
      "(<tf.Tensor 'save/RestoreV2_35/shape_and_slices:0' shape=(1,) dtype=string>,)\n",
      "(<tf.Tensor 'save/RestoreV2_35:0' shape=<unknown> dtype=float32>,)\n",
      "(<tf.Tensor 'save/Assign_35:0' shape=(64,) dtype=float32_ref>,)\n",
      "(<tf.Tensor 'save/RestoreV2_36/tensor_names:0' shape=(1,) dtype=string>,)\n",
      "(<tf.Tensor 'save/RestoreV2_36/shape_and_slices:0' shape=(1,) dtype=string>,)\n",
      "(<tf.Tensor 'save/RestoreV2_36:0' shape=<unknown> dtype=float32>,)\n",
      "(<tf.Tensor 'save/Assign_36:0' shape=() dtype=float32_ref>,)\n",
      "(<tf.Tensor 'save/RestoreV2_37/tensor_names:0' shape=(1,) dtype=string>,)\n",
      "(<tf.Tensor 'save/RestoreV2_37/shape_and_slices:0' shape=(1,) dtype=string>,)\n",
      "(<tf.Tensor 'save/RestoreV2_37:0' shape=<unknown> dtype=float32>,)\n",
      "(<tf.Tensor 'save/Assign_37:0' shape=() dtype=float32_ref>,)\n",
      "()\n"
     ]
    }
   ],
   "source": [
    "with tf.Session() as sess:\n",
    "    saver.restore(sess, tf.train.latest_checkpoint('.'))\n",
    "    [print (n.values()) for n in tf.get_default_graph().get_operations()]"
   ]
  },
  {
   "cell_type": "code",
   "execution_count": 29,
   "metadata": {},
   "outputs": [
    {
     "name": "stdout",
     "output_type": "stream",
     "text": [
      "INFO:tensorflow:Restoring parameters from ./traffic_sign_best\n"
     ]
    },
    {
     "ename": "ValueError",
     "evalue": "The name 'Conv2D' refers to an Operation, not a Tensor. Tensor names must be of the form \"<op_name>:<output_index>\".",
     "output_type": "error",
     "traceback": [
      "\u001b[0;31m---------------------------------------------------------------------------\u001b[0m",
      "\u001b[0;31mValueError\u001b[0m                                Traceback (most recent call last)",
      "\u001b[0;32m<ipython-input-29-cb59d5b2588d>\u001b[0m in \u001b[0;36m<module>\u001b[0;34m()\u001b[0m\n\u001b[1;32m      4\u001b[0m \u001b[0;31m#     bar = tf.get_default_graph().get_operation_by_name('Conv2D')\u001b[0m\u001b[0;34m\u001b[0m\u001b[0;34m\u001b[0m\u001b[0m\n\u001b[1;32m      5\u001b[0m \u001b[0;31m#     print(bar)\u001b[0m\u001b[0;34m\u001b[0m\u001b[0;34m\u001b[0m\u001b[0m\n\u001b[0;32m----> 6\u001b[0;31m     \u001b[0mconv_layer_1_visual\u001b[0m \u001b[0;34m=\u001b[0m \u001b[0mtf\u001b[0m\u001b[0;34m.\u001b[0m\u001b[0mget_default_graph\u001b[0m\u001b[0;34m(\u001b[0m\u001b[0;34m)\u001b[0m\u001b[0;34m.\u001b[0m\u001b[0mget_tensor_by_name\u001b[0m\u001b[0;34m(\u001b[0m\u001b[0;34m'Conv2D'\u001b[0m\u001b[0;34m)\u001b[0m\u001b[0;34m\u001b[0m\u001b[0m\n\u001b[0m\u001b[1;32m      7\u001b[0m \u001b[0;31m#     outputFeatureMap(image_input,conv_layer_1_visual)\u001b[0m\u001b[0;34m\u001b[0m\u001b[0;34m\u001b[0m\u001b[0m\n\u001b[1;32m      8\u001b[0m     \u001b[0mprint\u001b[0m\u001b[0;34m(\u001b[0m\u001b[0;34m\"Conv Layer 1 Activation: \"\u001b[0m\u001b[0;34m)\u001b[0m\u001b[0;34m\u001b[0m\u001b[0m\n",
      "\u001b[0;32m/opt/conda/lib/python3.6/site-packages/tensorflow/python/framework/ops.py\u001b[0m in \u001b[0;36mget_tensor_by_name\u001b[0;34m(self, name)\u001b[0m\n\u001b[1;32m   2878\u001b[0m       raise TypeError(\"Tensor names are strings (or similar), not %s.\"\n\u001b[1;32m   2879\u001b[0m                       % type(name).__name__)\n\u001b[0;32m-> 2880\u001b[0;31m     \u001b[0;32mreturn\u001b[0m \u001b[0mself\u001b[0m\u001b[0;34m.\u001b[0m\u001b[0mas_graph_element\u001b[0m\u001b[0;34m(\u001b[0m\u001b[0mname\u001b[0m\u001b[0;34m,\u001b[0m \u001b[0mallow_tensor\u001b[0m\u001b[0;34m=\u001b[0m\u001b[0;32mTrue\u001b[0m\u001b[0;34m,\u001b[0m \u001b[0mallow_operation\u001b[0m\u001b[0;34m=\u001b[0m\u001b[0;32mFalse\u001b[0m\u001b[0;34m)\u001b[0m\u001b[0;34m\u001b[0m\u001b[0m\n\u001b[0m\u001b[1;32m   2881\u001b[0m \u001b[0;34m\u001b[0m\u001b[0m\n\u001b[1;32m   2882\u001b[0m   \u001b[0;32mdef\u001b[0m \u001b[0m_next_id\u001b[0m\u001b[0;34m(\u001b[0m\u001b[0mself\u001b[0m\u001b[0;34m)\u001b[0m\u001b[0;34m:\u001b[0m\u001b[0;34m\u001b[0m\u001b[0m\n",
      "\u001b[0;32m/opt/conda/lib/python3.6/site-packages/tensorflow/python/framework/ops.py\u001b[0m in \u001b[0;36mas_graph_element\u001b[0;34m(self, obj, allow_tensor, allow_operation)\u001b[0m\n\u001b[1;32m   2706\u001b[0m \u001b[0;34m\u001b[0m\u001b[0m\n\u001b[1;32m   2707\u001b[0m     \u001b[0;32mwith\u001b[0m \u001b[0mself\u001b[0m\u001b[0;34m.\u001b[0m\u001b[0m_lock\u001b[0m\u001b[0;34m:\u001b[0m\u001b[0;34m\u001b[0m\u001b[0m\n\u001b[0;32m-> 2708\u001b[0;31m       \u001b[0;32mreturn\u001b[0m \u001b[0mself\u001b[0m\u001b[0;34m.\u001b[0m\u001b[0m_as_graph_element_locked\u001b[0m\u001b[0;34m(\u001b[0m\u001b[0mobj\u001b[0m\u001b[0;34m,\u001b[0m \u001b[0mallow_tensor\u001b[0m\u001b[0;34m,\u001b[0m \u001b[0mallow_operation\u001b[0m\u001b[0;34m)\u001b[0m\u001b[0;34m\u001b[0m\u001b[0m\n\u001b[0m\u001b[1;32m   2709\u001b[0m \u001b[0;34m\u001b[0m\u001b[0m\n\u001b[1;32m   2710\u001b[0m   \u001b[0;32mdef\u001b[0m \u001b[0m_as_graph_element_locked\u001b[0m\u001b[0;34m(\u001b[0m\u001b[0mself\u001b[0m\u001b[0;34m,\u001b[0m \u001b[0mobj\u001b[0m\u001b[0;34m,\u001b[0m \u001b[0mallow_tensor\u001b[0m\u001b[0;34m,\u001b[0m \u001b[0mallow_operation\u001b[0m\u001b[0;34m)\u001b[0m\u001b[0;34m:\u001b[0m\u001b[0;34m\u001b[0m\u001b[0m\n",
      "\u001b[0;32m/opt/conda/lib/python3.6/site-packages/tensorflow/python/framework/ops.py\u001b[0m in \u001b[0;36m_as_graph_element_locked\u001b[0;34m(self, obj, allow_tensor, allow_operation)\u001b[0m\n\u001b[1;32m   2780\u001b[0m         err_msg += (\" Tensor names must be of the form \"\n\u001b[1;32m   2781\u001b[0m                     \"\\\"<op_name>:<output_index>\\\".\")\n\u001b[0;32m-> 2782\u001b[0;31m         \u001b[0;32mraise\u001b[0m \u001b[0mValueError\u001b[0m\u001b[0;34m(\u001b[0m\u001b[0merr_msg\u001b[0m\u001b[0;34m)\u001b[0m\u001b[0;34m\u001b[0m\u001b[0m\n\u001b[0m\u001b[1;32m   2783\u001b[0m \u001b[0;34m\u001b[0m\u001b[0m\n\u001b[1;32m   2784\u001b[0m     \u001b[0;32melif\u001b[0m \u001b[0misinstance\u001b[0m\u001b[0;34m(\u001b[0m\u001b[0mobj\u001b[0m\u001b[0;34m,\u001b[0m \u001b[0mTensor\u001b[0m\u001b[0;34m)\u001b[0m \u001b[0;32mand\u001b[0m \u001b[0mallow_tensor\u001b[0m\u001b[0;34m:\u001b[0m\u001b[0;34m\u001b[0m\u001b[0m\n",
      "\u001b[0;31mValueError\u001b[0m: The name 'Conv2D' refers to an Operation, not a Tensor. Tensor names must be of the form \"<op_name>:<output_index>\"."
     ]
    }
   ],
   "source": [
    "with tf.Session() as sess:\n",
    "    saver.restore(sess, tf.train.latest_checkpoint('.'))\n",
    "#     [print (n.name) for n in tf.get_default_graph().as_graph_def().node]\n",
    "#     bar = tf.get_default_graph().get_operation_by_name('Conv2D')\n",
    "#     print(bar)\n",
    "    conv_layer_1_visual = tf.get_default_graph().get_tensor_by_name('Conv2D')\n",
    "#     outputFeatureMap(image_input,conv_layer_1_visual)\n",
    "    print(\"Conv Layer 1 Activation: \")"
   ]
  },
  {
   "cell_type": "code",
   "execution_count": 33,
   "metadata": {},
   "outputs": [
    {
     "name": "stdout",
     "output_type": "stream",
     "text": [
      "INFO:tensorflow:Restoring parameters from ./traffic_sign_best\n"
     ]
    },
    {
     "ename": "ValueError",
     "evalue": "num must be 1 <= num <= 48, not 49",
     "output_type": "error",
     "traceback": [
      "\u001b[0;31m---------------------------------------------------------------------------\u001b[0m",
      "\u001b[0;31mValueError\u001b[0m                                Traceback (most recent call last)",
      "\u001b[0;32m<ipython-input-33-4a93f26c5c12>\u001b[0m in \u001b[0;36m<module>\u001b[0;34m()\u001b[0m\n\u001b[1;32m      7\u001b[0m \u001b[0;31m#     print (sess.graph)\u001b[0m\u001b[0;34m\u001b[0m\u001b[0;34m\u001b[0m\u001b[0m\n\u001b[1;32m      8\u001b[0m     \u001b[0mconv_layer_1_visual\u001b[0m \u001b[0;34m=\u001b[0m \u001b[0msess\u001b[0m\u001b[0;34m.\u001b[0m\u001b[0mgraph\u001b[0m\u001b[0;34m.\u001b[0m\u001b[0mget_tensor_by_name\u001b[0m\u001b[0;34m(\u001b[0m\u001b[0;34m'Conv2D_1:0'\u001b[0m\u001b[0;34m)\u001b[0m\u001b[0;34m\u001b[0m\u001b[0m\n\u001b[0;32m----> 9\u001b[0;31m     \u001b[0moutputFeatureMap\u001b[0m\u001b[0;34m(\u001b[0m\u001b[0mimage_input\u001b[0m\u001b[0;34m,\u001b[0m\u001b[0mconv_layer_1_visual\u001b[0m\u001b[0;34m)\u001b[0m\u001b[0;34m\u001b[0m\u001b[0m\n\u001b[0m\u001b[1;32m     10\u001b[0m     \u001b[0mprint\u001b[0m\u001b[0;34m(\u001b[0m\u001b[0;34m\"Conv Layer 1 Activation: \"\u001b[0m\u001b[0;34m)\u001b[0m\u001b[0;34m\u001b[0m\u001b[0m\n",
      "\u001b[0;32m<ipython-input-12-6b2b354a9681>\u001b[0m in \u001b[0;36moutputFeatureMap\u001b[0;34m(image_input, tf_activation, activation_min, activation_max, plt_num)\u001b[0m\n\u001b[1;32m     17\u001b[0m     \u001b[0mplt\u001b[0m\u001b[0;34m.\u001b[0m\u001b[0mfigure\u001b[0m\u001b[0;34m(\u001b[0m\u001b[0mplt_num\u001b[0m\u001b[0;34m,\u001b[0m \u001b[0mfigsize\u001b[0m\u001b[0;34m=\u001b[0m\u001b[0;34m(\u001b[0m\u001b[0;36m15\u001b[0m\u001b[0;34m,\u001b[0m\u001b[0;36m15\u001b[0m\u001b[0;34m)\u001b[0m\u001b[0;34m)\u001b[0m\u001b[0;34m\u001b[0m\u001b[0m\n\u001b[1;32m     18\u001b[0m     \u001b[0;32mfor\u001b[0m \u001b[0mfeaturemap\u001b[0m \u001b[0;32min\u001b[0m \u001b[0mrange\u001b[0m\u001b[0;34m(\u001b[0m\u001b[0mfeaturemaps\u001b[0m\u001b[0;34m)\u001b[0m\u001b[0;34m:\u001b[0m\u001b[0;34m\u001b[0m\u001b[0m\n\u001b[0;32m---> 19\u001b[0;31m         \u001b[0mplt\u001b[0m\u001b[0;34m.\u001b[0m\u001b[0msubplot\u001b[0m\u001b[0;34m(\u001b[0m\u001b[0;36m6\u001b[0m\u001b[0;34m,\u001b[0m\u001b[0;36m8\u001b[0m\u001b[0;34m,\u001b[0m \u001b[0mfeaturemap\u001b[0m\u001b[0;34m+\u001b[0m\u001b[0;36m1\u001b[0m\u001b[0;34m)\u001b[0m \u001b[0;31m# sets the number of feature maps to show on each row and column\u001b[0m\u001b[0;34m\u001b[0m\u001b[0m\n\u001b[0m\u001b[1;32m     20\u001b[0m         \u001b[0mplt\u001b[0m\u001b[0;34m.\u001b[0m\u001b[0mtitle\u001b[0m\u001b[0;34m(\u001b[0m\u001b[0;34m'FeatureMap '\u001b[0m \u001b[0;34m+\u001b[0m \u001b[0mstr\u001b[0m\u001b[0;34m(\u001b[0m\u001b[0mfeaturemap\u001b[0m\u001b[0;34m)\u001b[0m\u001b[0;34m)\u001b[0m \u001b[0;31m# displays the feature map number\u001b[0m\u001b[0;34m\u001b[0m\u001b[0m\n\u001b[1;32m     21\u001b[0m         \u001b[0;32mif\u001b[0m \u001b[0mactivation_min\u001b[0m \u001b[0;34m!=\u001b[0m \u001b[0;34m-\u001b[0m\u001b[0;36m1\u001b[0m \u001b[0;34m&\u001b[0m \u001b[0mactivation_max\u001b[0m \u001b[0;34m!=\u001b[0m \u001b[0;34m-\u001b[0m\u001b[0;36m1\u001b[0m\u001b[0;34m:\u001b[0m\u001b[0;34m\u001b[0m\u001b[0m\n",
      "\u001b[0;32m/opt/conda/lib/python3.6/site-packages/matplotlib/pyplot.py\u001b[0m in \u001b[0;36msubplot\u001b[0;34m(*args, **kwargs)\u001b[0m\n\u001b[1;32m   1051\u001b[0m \u001b[0;34m\u001b[0m\u001b[0m\n\u001b[1;32m   1052\u001b[0m     \u001b[0mfig\u001b[0m \u001b[0;34m=\u001b[0m \u001b[0mgcf\u001b[0m\u001b[0;34m(\u001b[0m\u001b[0;34m)\u001b[0m\u001b[0;34m\u001b[0m\u001b[0m\n\u001b[0;32m-> 1053\u001b[0;31m     \u001b[0ma\u001b[0m \u001b[0;34m=\u001b[0m \u001b[0mfig\u001b[0m\u001b[0;34m.\u001b[0m\u001b[0madd_subplot\u001b[0m\u001b[0;34m(\u001b[0m\u001b[0;34m*\u001b[0m\u001b[0margs\u001b[0m\u001b[0;34m,\u001b[0m \u001b[0;34m**\u001b[0m\u001b[0mkwargs\u001b[0m\u001b[0;34m)\u001b[0m\u001b[0;34m\u001b[0m\u001b[0m\n\u001b[0m\u001b[1;32m   1054\u001b[0m     \u001b[0mbbox\u001b[0m \u001b[0;34m=\u001b[0m \u001b[0ma\u001b[0m\u001b[0;34m.\u001b[0m\u001b[0mbbox\u001b[0m\u001b[0;34m\u001b[0m\u001b[0m\n\u001b[1;32m   1055\u001b[0m     \u001b[0mbyebye\u001b[0m \u001b[0;34m=\u001b[0m \u001b[0;34m[\u001b[0m\u001b[0;34m]\u001b[0m\u001b[0;34m\u001b[0m\u001b[0m\n",
      "\u001b[0;32m/opt/conda/lib/python3.6/site-packages/matplotlib/figure.py\u001b[0m in \u001b[0;36madd_subplot\u001b[0;34m(self, *args, **kwargs)\u001b[0m\n\u001b[1;32m   1068\u001b[0m                     \u001b[0mself\u001b[0m\u001b[0;34m.\u001b[0m\u001b[0m_axstack\u001b[0m\u001b[0;34m.\u001b[0m\u001b[0mremove\u001b[0m\u001b[0;34m(\u001b[0m\u001b[0max\u001b[0m\u001b[0;34m)\u001b[0m\u001b[0;34m\u001b[0m\u001b[0m\n\u001b[1;32m   1069\u001b[0m \u001b[0;34m\u001b[0m\u001b[0m\n\u001b[0;32m-> 1070\u001b[0;31m             \u001b[0ma\u001b[0m \u001b[0;34m=\u001b[0m \u001b[0msubplot_class_factory\u001b[0m\u001b[0;34m(\u001b[0m\u001b[0mprojection_class\u001b[0m\u001b[0;34m)\u001b[0m\u001b[0;34m(\u001b[0m\u001b[0mself\u001b[0m\u001b[0;34m,\u001b[0m \u001b[0;34m*\u001b[0m\u001b[0margs\u001b[0m\u001b[0;34m,\u001b[0m \u001b[0;34m**\u001b[0m\u001b[0mkwargs\u001b[0m\u001b[0;34m)\u001b[0m\u001b[0;34m\u001b[0m\u001b[0m\n\u001b[0m\u001b[1;32m   1071\u001b[0m \u001b[0;34m\u001b[0m\u001b[0m\n\u001b[1;32m   1072\u001b[0m         \u001b[0mself\u001b[0m\u001b[0;34m.\u001b[0m\u001b[0m_axstack\u001b[0m\u001b[0;34m.\u001b[0m\u001b[0madd\u001b[0m\u001b[0;34m(\u001b[0m\u001b[0mkey\u001b[0m\u001b[0;34m,\u001b[0m \u001b[0ma\u001b[0m\u001b[0;34m)\u001b[0m\u001b[0;34m\u001b[0m\u001b[0m\n",
      "\u001b[0;32m/opt/conda/lib/python3.6/site-packages/matplotlib/axes/_subplots.py\u001b[0m in \u001b[0;36m__init__\u001b[0;34m(self, fig, *args, **kwargs)\u001b[0m\n\u001b[1;32m     62\u001b[0m                     raise ValueError(\n\u001b[1;32m     63\u001b[0m                         \"num must be 1 <= num <= {maxn}, not {num}\".format(\n\u001b[0;32m---> 64\u001b[0;31m                             maxn=rows*cols, num=num))\n\u001b[0m\u001b[1;32m     65\u001b[0m                 \u001b[0mself\u001b[0m\u001b[0;34m.\u001b[0m\u001b[0m_subplotspec\u001b[0m \u001b[0;34m=\u001b[0m \u001b[0mGridSpec\u001b[0m\u001b[0;34m(\u001b[0m\u001b[0mrows\u001b[0m\u001b[0;34m,\u001b[0m \u001b[0mcols\u001b[0m\u001b[0;34m)\u001b[0m\u001b[0;34m[\u001b[0m\u001b[0mint\u001b[0m\u001b[0;34m(\u001b[0m\u001b[0mnum\u001b[0m\u001b[0;34m)\u001b[0m \u001b[0;34m-\u001b[0m \u001b[0;36m1\u001b[0m\u001b[0;34m]\u001b[0m\u001b[0;34m\u001b[0m\u001b[0m\n\u001b[1;32m     66\u001b[0m                 \u001b[0;31m# num - 1 for converting from MATLAB to python indexing\u001b[0m\u001b[0;34m\u001b[0m\u001b[0;34m\u001b[0m\u001b[0m\n",
      "\u001b[0;31mValueError\u001b[0m: num must be 1 <= num <= 48, not 49"
     ]
    },
    {
     "data": {
      "image/png": "[encoded data removed]",
      "text/plain": [
       "<matplotlib.figure.Figure at 0x7fb77a91e6a0>"
      ]
     },
     "metadata": {
      "needs_background": "light"
     },
     "output_type": "display_data"
    }
   ],
   "source": [
    "image_input = X_train[14]\n",
    "\n",
    "with tf.Session() as sess:\n",
    "    saver.restore(sess, tf.train.latest_checkpoint('.'))\n",
    "#     [print (n.name) for n in tf.get_default_graph().as_graph_def().node]\n",
    "    image_input = image_input.reshape(1,32,32,3)\n",
    "#     print (sess.graph)\n",
    "    conv_layer_1_visual = sess.graph.get_tensor_by_name('Conv2D_1:0')\n",
    "    outputFeatureMap(image_input,conv_layer_1_visual)\n",
    "    print(\"Conv Layer 1 Activation: \")"
   ]
  },
  {
   "cell_type": "code",
   "execution_count": 12,
   "metadata": {},
   "outputs": [],
   "source": [
    "### Visualize your network's feature maps here.\n",
    "### Feel free to use as many code cells as needed.\n",
    "\n",
    "# image_input: the test image being fed into the network to produce the feature maps\n",
    "# tf_activation: should be a tf variable name used during your training procedure that represents the calculated state of a specific weight layer\n",
    "# activation_min/max: can be used to view the activation contrast in more detail, by default matplot sets min and max to the actual min and max values of the output\n",
    "# plt_num: used to plot out multiple different weight feature map sets on the same block, just extend the plt number for each new feature map entry\n",
    "\n",
    "def outputFeatureMap(image_input, tf_activation, activation_min=-1, activation_max=-1 ,plt_num=1):\n",
    "    # Here make sure to preprocess your image_input in a way your network expects\n",
    "    # with size, normalization, ect if needed\n",
    "    # image_input =\n",
    "    # Note: x should be the same name as your network's tensorflow data placeholder variable\n",
    "    # If you get an error tf_activation is not defined it may be having trouble accessing the variable from inside a function\n",
    "    activation = tf_activation.eval(session=sess,feed_dict={x : image_input})\n",
    "    featuremaps = activation.shape[3]\n",
    "    plt.figure(plt_num, figsize=(15,15))\n",
    "    for featuremap in range(featuremaps):\n",
    "        plt.subplot(6,8, featuremap+1) # sets the number of feature maps to show on each row and column\n",
    "        plt.title('FeatureMap ' + str(featuremap)) # displays the feature map number\n",
    "        if activation_min != -1 & activation_max != -1:\n",
    "            plt.imshow(activation[0,:,:, featuremap], interpolation=\"nearest\", vmin =activation_min, vmax=activation_max, cmap=\"gray\")\n",
    "        elif activation_max != -1:\n",
    "            plt.imshow(activation[0,:,:, featuremap], interpolation=\"nearest\", vmax=activation_max, cmap=\"gray\")\n",
    "        elif activation_min !=-1:\n",
    "            plt.imshow(activation[0,:,:, featuremap], interpolation=\"nearest\", vmin=activation_min, cmap=\"gray\")\n",
    "        else:\n",
    "            plt.imshow(activation[0,:,:, featuremap], interpolation=\"nearest\", cmap=\"gray\")"
   ]
  },
  {
   "cell_type": "code",
   "execution_count": null,
   "metadata": {},
   "outputs": [],
   "source": []
  }
 ],
 "metadata": {
  "anaconda-cloud": {},
  "kernelspec": {
   "display_name": "Python 3",
   "language": "python",
   "name": "python3"
  },
  "language_info": {
   "codemirror_mode": {
    "name": "ipython",
    "version": 3
   },
   "file_extension": ".py",
   "mimetype": "text/x-python",
   "name": "python",
   "nbconvert_exporter": "python",
   "pygments_lexer": "ipython3",
   "version": "3.6.3"
  }
 },
 "nbformat": 4,
 "nbformat_minor": 1
}
